{
 "cells": [
  {
   "cell_type": "code",
   "execution_count": 1,
   "metadata": {},
   "outputs": [],
   "source": [
    "# *******************************************************\n",
    "# Script referente a aula de PBL numero 5\n",
    "# \n",
    "# Author: Bruno Tebaldi Barbosa\n",
    "# Date: 2024-03-16\n",
    "# Objectives: Strings and string operations\n",
    "# *******************************************************"
   ]
  },
  {
   "cell_type": "code",
   "execution_count": 2,
   "metadata": {},
   "outputs": [
    {
     "name": "stdout",
     "output_type": "stream",
     "text": [
      "hello\n"
     ]
    }
   ],
   "source": [
    "print(\"hello\")"
   ]
  },
  {
   "cell_type": "code",
   "execution_count": 3,
   "metadata": {},
   "outputs": [
    {
     "data": {
      "text/plain": [
       "str"
      ]
     },
     "execution_count": 3,
     "metadata": {},
     "output_type": "execute_result"
    }
   ],
   "source": [
    "x = \"1\"\n",
    "type(x)"
   ]
  },
  {
   "cell_type": "code",
   "execution_count": 4,
   "metadata": {},
   "outputs": [
    {
     "data": {
      "text/plain": [
       "int"
      ]
     },
     "execution_count": 4,
     "metadata": {},
     "output_type": "execute_result"
    }
   ],
   "source": [
    "y = 1\n",
    "type(y)"
   ]
  },
  {
   "cell_type": "code",
   "execution_count": 5,
   "metadata": {},
   "outputs": [
    {
     "data": {
      "text/plain": [
       "float"
      ]
     },
     "execution_count": 5,
     "metadata": {},
     "output_type": "execute_result"
    }
   ],
   "source": [
    "z=1.0\n",
    "type(z)"
   ]
  },
  {
   "cell_type": "code",
   "execution_count": 6,
   "metadata": {},
   "outputs": [
    {
     "data": {
      "text/plain": [
       "datetime.date(2024, 3, 16)"
      ]
     },
     "execution_count": 6,
     "metadata": {},
     "output_type": "execute_result"
    }
   ],
   "source": [
    "# ***** CURIOSIDADE ***** \n",
    "\n",
    "# Formato de variavel em data e hora.\n",
    "import datetime\n",
    "datetime.date.today()"
   ]
  },
  {
   "cell_type": "code",
   "execution_count": 7,
   "metadata": {},
   "outputs": [
    {
     "name": "stdout",
     "output_type": "stream",
     "text": [
      "BeloHorizonte\n",
      "BELOHORIZONTE\n",
      "belohorizonte\n",
      "Belohorizonte\n",
      "['Bel', 'H', 'riz', 'nte']\n",
      "<class 'list'>\n",
      "BeloHorizonteBeloHorizonteBeloHorizonte\n",
      "True\n",
      "False\n",
      "Bel0H0riz0nte\n",
      "3\n"
     ]
    }
   ],
   "source": [
    "# Concatenando palavras\n",
    "CIDADE = \"Belo\" + \"Horizonte\"\n",
    "print(CIDADE)\n",
    "\n",
    "# Concatenando palavras\n",
    "print(CIDADE.upper())\n",
    "print(CIDADE.lower())\n",
    "print(CIDADE.capitalize())\n",
    "\n",
    "\n",
    "# Dividindo em um caractere\n",
    "CIDADE.split('o')\n",
    "print(CIDADE.split('o'))\n",
    "print(type(CIDADE.split('o')))\n",
    "\n",
    "# Repetingo caracteres\n",
    "print(CIDADE*3)\n",
    "\n",
    "# Comecando e terminando com palavras especificas\n",
    "print(CIDADE.endswith(\"Horizonte\")) \n",
    "print(CIDADE.startswith(\"Horizonte\")) \n",
    "\n",
    "# Replace basico\n",
    "print(CIDADE.replace(\"o\", \"0\")) \n",
    "\n",
    "# Localizar primeiro char\n",
    "print(CIDADE.find(\"o\"))"
   ]
  },
  {
   "cell_type": "code",
   "execution_count": 8,
   "metadata": {},
   "outputs": [
    {
     "name": "stdout",
     "output_type": "stream",
     "text": [
      "Hello, John. You are 30 years old.\n",
      "Hello, John. You are 30 years old.\n",
      "Hello, John. You are 30 years old.\n"
     ]
    }
   ],
   "source": [
    "# ***** CURIOSIDADE ***** \n",
    "\n",
    "# ***** Format strings in Python ***** \n",
    "\n",
    "# Using % Operator\n",
    "# The % operator is used to format a set of variables enclosed in a \"tuple\" (a fixed size list),\n",
    "# together with a format string, which contains normal text together with \"argument specifiers\", special symbols like %s and %d.\n",
    "\n",
    "name = \"John\"\n",
    "age = 30\n",
    "formatted_string = \"Hello, %s. You are %d years old.\" % (name, age)\n",
    "print(formatted_string)\n",
    "\n",
    "# Using str.format()\n",
    "# The str.format() method is more versatile and readable than the % operator.\n",
    "# You use {} as placeholders for the variables that you want to insert.\n",
    "name = \"John\"\n",
    "age = 30\n",
    "formatted_string = \"Hello, {}. You are {} years old.\".format(name, age)\n",
    "print(formatted_string)\n",
    "\n",
    "\n",
    "# You can also use indices inside the {} placeholders to specify the order of the variables.\n",
    "formatted_string = \"Hello, {0}. You are {1} years old.\".format(name, age)\n",
    "\n",
    "\n",
    "\n",
    "# Using F-strings (Formatted String Literals)\n",
    "# F-strings provide a way to embed expressions inside string literals, using minimal syntax. \n",
    "# It's denoted by prefixing the string with f or F before the opening quotation mark. The variables to be inserted are placed in curly braces.\n",
    "name = \"John\"\n",
    "age = 30\n",
    "formatted_string = f\"Hello, {name}. You are {age} years old.\"\n",
    "print(formatted_string)\n"
   ]
  }
 ],
 "metadata": {
  "kernelspec": {
   "display_name": "Python 3",
   "language": "python",
   "name": "python3"
  },
  "language_info": {
   "codemirror_mode": {
    "name": "ipython",
    "version": 3
   },
   "file_extension": ".py",
   "mimetype": "text/x-python",
   "name": "python",
   "nbconvert_exporter": "python",
   "pygments_lexer": "ipython3",
   "version": "3.12.2"
  }
 },
 "nbformat": 4,
 "nbformat_minor": 2
}
