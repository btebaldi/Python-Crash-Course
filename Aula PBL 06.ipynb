{
 "cells": [
  {
   "cell_type": "code",
   "execution_count": 37,
   "metadata": {},
   "outputs": [],
   "source": [
    "# *******************************************************\n",
    "# Script referente a aula de PBL numero 6\n",
    "#\n",
    "# Author: Bruno Tebaldi Barbosa\n",
    "# Date: 2024-03-16\n",
    "# Objectives: Numbers, operations and relationships\n",
    "# *******************************************************\n"
   ]
  },
  {
   "cell_type": "code",
   "execution_count": 38,
   "metadata": {},
   "outputs": [
    {
     "name": "stdout",
     "output_type": "stream",
     "text": [
      "<class 'int'>\n",
      "<class 'float'>\n"
     ]
    }
   ],
   "source": [
    "# Tipos de números: inteiros e reais, e suas respectivas representações em Python: Integers e\n",
    "# Floats.\n",
    "\n",
    "# Conjunto Inteiros e Naturais\n",
    "x = 2\n",
    "print(type(x))\n",
    "\n",
    "\n",
    "# Reais e Racionais\n",
    "y = 2.0\n",
    "print(type(y))"
   ]
  },
  {
   "cell_type": "code",
   "execution_count": 39,
   "metadata": {},
   "outputs": [
    {
     "name": "stdout",
     "output_type": "stream",
     "text": [
      "(3+4j)\n",
      "(2+5j)\n",
      "(5+9j)\n"
     ]
    }
   ],
   "source": [
    "# ***** CURIOSIDADE ***** \n",
    "\n",
    "# COMPLEXOS\n",
    "# Declarando um numero complexo\n",
    "complex_number = 3 + 4j\n",
    "\n",
    "# You can also use the complex function to create complex numbers\n",
    "# Tambem é possivel utilizar a funcao complexa\n",
    "another_complex_number = complex(2, 5)\n",
    "\n",
    "print(complex_number)\n",
    "print(another_complex_number)\n",
    "\n",
    "\n",
    "print(complex_number + another_complex_number)"
   ]
  },
  {
   "cell_type": "code",
   "execution_count": 40,
   "metadata": {},
   "outputs": [
    {
     "name": "stdout",
     "output_type": "stream",
     "text": [
      "vamos declarar x = 2 e y = 3\n",
      "soma subtração multiplicar e dividir\n",
      "5.0\n",
      "<class 'float'>\n",
      "6\n",
      "<class 'int'>\n",
      "Expoente\n",
      "8.0\n",
      "<class 'float'>\n",
      "Raiz quadrada (usando o expoente)\n",
      "1.4142135623730951\n",
      "<class 'float'>\n",
      "Tambem é possivel calcular o log utilizando uma biblioteca externa\n",
      "1.4142135623730951\n",
      "<class 'float'>\n",
      "Logaritimo (necessario modulo math)\n",
      "0.6931471805599453\n",
      "<class 'float'>\n",
      "Modulus (resto da divisao)\n",
      "0\n",
      "<class 'int'>\n",
      "1\n",
      "<class 'int'>\n",
      "1\n",
      "<class 'int'>\n"
     ]
    }
   ],
   "source": [
    "# Formatação de números para serem apresentados na saída do programa\n",
    "# Operações com números\n",
    "# Precedência de operadores e parênteses em Python\n",
    "# Atribuições múltiplas de valores para variáveis\n",
    "\n",
    "print(\"vamos declarar x = 2 e y = 3\")\n",
    "x = 2\n",
    "y = 3.0\n",
    "\n",
    "# Operações com números\n",
    "# - soma subtração multiplicar e dividir\n",
    "print(\"soma subtração multiplicar e dividir\")\n",
    "z = x + y\n",
    "print(z)\n",
    "print(type(z))\n",
    "\n",
    "print(x*3)\n",
    "print(type(x*3))\n",
    "\n",
    "# Atencao aos erros de arredondamento\n",
    "(1+0.1)**2\n",
    "\n",
    "# - expoente\n",
    "print(\"Expoente\")\n",
    "z = x**y\n",
    "print(z)\n",
    "print(type(z))\n",
    "\n",
    "# - raiz\n",
    "print(\"Raiz quadrada (usando o expoente)\")\n",
    "z = x**0.5\n",
    "print(z)\n",
    "print(type(z))\n",
    "\n",
    "print(\"Tambem é possivel calcular o log utilizando uma biblioteca externa\")\n",
    "import math\n",
    "z = math.sqrt(x)\n",
    "print(z)\n",
    "print(type(z))\n",
    "\n",
    "\n",
    "# - log\n",
    "print(\"Logaritimo (necessario modulo math)\")\n",
    "import math\n",
    "\n",
    "z = math.log(x)\n",
    "print(z)\n",
    "print(type(z))\n",
    "\n",
    "\n",
    "# - Modulus (resto da divisao)\n",
    "print(\"Modulus (resto da divisao)\")\n",
    "\n",
    "z = 4 % 2\n",
    "print(z)\n",
    "print(type(z))\n",
    "\n",
    "z = 5 % 2\n",
    "print(z)\n",
    "print(type(z))\n",
    "\n",
    "z = 1 % 2\n",
    "print(z)\n",
    "print(type(z))\n"
   ]
  },
  {
   "cell_type": "code",
   "execution_count": 41,
   "metadata": {},
   "outputs": [
    {
     "name": "stdout",
     "output_type": "stream",
     "text": [
      "Relacao matematica: maior ou igual\n",
      "False\n",
      "Relacao matematica: menor\n",
      "True\n",
      "Relacao matematica: igualdade\n",
      "False\n",
      "Relacao matematica: deigualdade\n",
      "True\n"
     ]
    },
    {
     "data": {
      "text/plain": [
       "bool"
      ]
     },
     "execution_count": 41,
     "metadata": {},
     "output_type": "execute_result"
    }
   ],
   "source": [
    "\n",
    "# Relações numéricas: O resultado de uma relacao matematica é uma variavel boleana: True/Flase\n",
    "# - maior\n",
    "print(\"Relacao matematica: maior ou igual\")\n",
    "z = x>=y\n",
    "print(z)\n",
    "type(z)\n",
    "\n",
    "# - menor\n",
    "print(\"Relacao matematica: menor\")\n",
    "z = x<y\n",
    "print(z)\n",
    "type(z)\n",
    "\n",
    "# - igualdade\n",
    "print(\"Relacao matematica: igualdade\")\n",
    "z = x == y\n",
    "print(z)\n",
    "type(z)\n",
    "\n",
    "# - deigualdade\n",
    "print(\"Relacao matematica: deigualdade\")\n",
    "z = x != y\n",
    "print(z)\n",
    "type(z)"
   ]
  },
  {
   "cell_type": "code",
   "execution_count": 43,
   "metadata": {},
   "outputs": [
    {
     "name": "stdout",
     "output_type": "stream",
     "text": [
      "x E y = False\n",
      "x OU y = True\n",
      "a negacao de x = False\n",
      "a negacao de y = True\n"
     ]
    }
   ],
   "source": [
    "\n",
    "# Variáveis baleadas\n",
    "# (dica: procurar sobre tabela verdade)\n",
    "\n",
    "x = True\n",
    "y = False\n",
    "# - e\n",
    "z = x & y\n",
    "print(f\"x E y = {z}\")\n",
    "\n",
    "# - ou\n",
    "z = x | y\n",
    "print(f\"x OU y = {z}\")\n",
    "\n",
    "# - não!\n",
    "z = not x \n",
    "print(f\"a negacao de x = {z}\")\n",
    "\n",
    "z = not y \n",
    "print(f\"a negacao de y = {z}\")"
   ]
  },
  {
   "cell_type": "code",
   "execution_count": 44,
   "metadata": {},
   "outputs": [
    {
     "name": "stdout",
     "output_type": "stream",
     "text": [
      "x = 1\n",
      "y = 3\n",
      "z = 10\n"
     ]
    }
   ],
   "source": [
    "# Multiple Assignment\n",
    "# Você pode atribuir valores a mais de uma variável usando apenas uma linha de código.\n",
    "x, y, z = 1, 3, 10\n",
    "\n",
    "print(\"x = {}\\ny = {}\\nz = {}\".format(x,y,z))"
   ]
  },
  {
   "cell_type": "code",
   "execution_count": 45,
   "metadata": {},
   "outputs": [
    {
     "name": "stdout",
     "output_type": "stream",
     "text": [
      "<class 'int'>\n",
      "<class 'float'>\n",
      "<class 'float'>\n",
      "<class 'float'>\n"
     ]
    }
   ],
   "source": [
    "# Interações entre variáveis\n",
    "# - int com float\n",
    "\n",
    "# inteiro\n",
    "x = 2\n",
    "print(type(x))\n",
    "\n",
    "# float\n",
    "y = 3.0\n",
    "print(type(y))\n",
    "\n",
    "# inteiro\n",
    "print(type(x+y))\n",
    "\n",
    "print(type(math.pow(y,x)))\n"
   ]
  }
 ],
 "metadata": {
  "kernelspec": {
   "display_name": "Python 3",
   "language": "python",
   "name": "python3"
  },
  "language_info": {
   "codemirror_mode": {
    "name": "ipython",
    "version": 3
   },
   "file_extension": ".py",
   "mimetype": "text/x-python",
   "name": "python",
   "nbconvert_exporter": "python",
   "pygments_lexer": "ipython3",
   "version": "3.12.2"
  }
 },
 "nbformat": 4,
 "nbformat_minor": 2
}
