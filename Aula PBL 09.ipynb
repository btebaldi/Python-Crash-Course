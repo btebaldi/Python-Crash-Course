{
 "cells": [
  {
   "cell_type": "code",
   "execution_count": 6,
   "metadata": {},
   "outputs": [],
   "source": [
    "# *******************************************************\n",
    "# Script referente a aula de PBL numero 9\n",
    "#\n",
    "# Author: Bruno Tebaldi Barbosa\n",
    "# Date: 2024-03-24\n",
    "# Objectives: tuples\n",
    "# *******************************************************\n"
   ]
  },
  {
   "cell_type": "code",
   "execution_count": 7,
   "metadata": {},
   "outputs": [
    {
     "name": "stdout",
     "output_type": "stream",
     "text": [
      "200\n",
      "100\n"
     ]
    }
   ],
   "source": [
    "# Tuplas\n",
    "\n",
    "# As tuplas é uma lista imutável chamada de tupla.\n",
    "\n",
    "# Definindo uma Tupla\n",
    "\n",
    "# Uma tupla se parece com uma lista, exceto que você usa parênteses em vez de quadrado\n",
    "# colchetes.\n",
    "\n",
    "dimensions = (200, 100, 50, 25, 12, 6, 3, 1)\n",
    "print(dimensions[0])\n",
    "print(dimensions[1])"
   ]
  },
  {
   "cell_type": "code",
   "execution_count": 8,
   "metadata": {},
   "outputs": [
    {
     "name": "stdout",
     "output_type": "stream",
     "text": [
      "200\n",
      "100\n",
      "50\n",
      "25\n",
      "12\n",
      "6\n",
      "3\n",
      "1\n"
     ]
    }
   ],
   "source": [
    "# loop por em uma tupla\n",
    "\n",
    "for dim in dimensions:\n",
    "    print(dim)"
   ]
  },
  {
   "cell_type": "code",
   "execution_count": 9,
   "metadata": {},
   "outputs": [
    {
     "name": "stdout",
     "output_type": "stream",
     "text": [
      "Dimensões originais:\n",
      "400\n",
      "100\n",
      "\n",
      "Dimensões modificadas:\n",
      "200\n",
      "100\n",
      "50\n",
      "25\n",
      "12\n",
      "6\n",
      "3\n",
      "1\n"
     ]
    }
   ],
   "source": [
    "# Escrevendo sobre uma tupla\n",
    "\n",
    "# Embora não seja possível modificar uma tupla, você pode atribuir um novo valor \n",
    "# a uma variável que representa uma tupla. \n",
    "\n",
    "dimensions = (400, 100)\n",
    "print(\"Dimensões originais:\")\n",
    "for dim in dimensions:\n",
    "    print(dim)\n",
    "\n",
    "dimensions = (200, 100, 50, 25, 12, 6, 3, 1)\n",
    "print(\"\\nDimensões modificadas:\")\n",
    "for dim in dimensions:\n",
    "    print(dim)\n"
   ]
  },
  {
   "cell_type": "code",
   "execution_count": 12,
   "metadata": {},
   "outputs": [
    {
     "name": "stdout",
     "output_type": "stream",
     "text": [
      "(200, 100, 50, 25, 12, 6, 3, 1)\n",
      "Minimo = 1\n",
      "Maximo = 200\n",
      "Soma = 397\n"
     ]
    }
   ],
   "source": [
    "# Estatísticas simples\n",
    "\n",
    "print(dimensions)\n",
    "print(\"Minimo = {0}\\nMaximo = {1}\\nSoma = {2}\".format(min(dimensions), max(dimensions), sum(dimensions)))\n",
    "\n"
   ]
  },
  {
   "cell_type": "code",
   "execution_count": 19,
   "metadata": {},
   "outputs": [
    {
     "name": "stdout",
     "output_type": "stream",
     "text": [
      "('charles', 'martina', 'michael')\n",
      "A lista de pessoas é: ('charles', 'martina', 'michael', 'florence', 'eli')\n",
      "Aqui estão os três primeiros jogadores do meu time:\n",
      "Charles\n",
      "Martina\n",
      "Michael\n"
     ]
    }
   ],
   "source": [
    "# Fatiando uma lista (\"slice\")\n",
    "\n",
    "# Para fazer uma fatia (\"slice\"), você especifica o índice do primeiro e do \n",
    "# último elemento que deseja trabalhar com. \n",
    "\n",
    "tuple_de_pessoas = ('charles', 'martina', 'michael', 'florence', 'eli')\n",
    "print(tuple_de_pessoas[0:3])\n",
    "\n",
    "\n",
    "# Loop de uma fatia\n",
    "print(f\"A lista de pessoas é: {tuple_de_pessoas}\")\n",
    "print(\"Aqui estão os três primeiros jogadores do meu time:\")\n",
    "for jogador in tuple_de_pessoas[:3]:\n",
    "    print(jogador.title())"
   ]
  },
  {
   "cell_type": "code",
   "execution_count": 4,
   "metadata": {},
   "outputs": [
    {
     "name": "stdout",
     "output_type": "stream",
     "text": [
      "Minhas comidas favoritas são:\n",
      "('pizza', 'falafel', 'bolo de cenoura')\n",
      "\n",
      "As comidas favoritas do meu amigo são:\n",
      "('pizza', 'falafel')\n",
      "o Slice é do tipo <class 'tuple'>, e a lista original é do tipo <class 'tuple'>\n"
     ]
    }
   ],
   "source": [
    "# Copiando uma tuple\n",
    "\n",
    "# Para copiar uma lista, você pode criar uma fatia (\"slice\").\n",
    "\n",
    "my_foods = ('pizza', 'falafel', 'bolo de cenoura')\n",
    "friend_foods = my_foods[:2]\n",
    "print(\"Minhas comidas favoritas são:\")\n",
    "print(my_foods)\n",
    "print(\"\\nAs comidas favoritas do meu amigo são:\")\n",
    "print(friend_foods)\n",
    "\n",
    "print(\"o Slice é do tipo {0}, e a lista original é do tipo {1}\".format(type(friend_foods), type(friend_foods)))\n"
   ]
  },
  {
   "cell_type": "code",
   "execution_count": 5,
   "metadata": {},
   "outputs": [
    {
     "name": "stdout",
     "output_type": "stream",
     "text": [
      "(1, 2, 3, 4)\n",
      "[1, 2, 3, 4]\n"
     ]
    }
   ],
   "source": [
    "# Converting a List to a Tuple\n",
    "\n",
    "# To convert a list to a tuple, you can use the tuple() function, passing the list as an argument.\n",
    "\n",
    "my_list = [1, 2, 3, 4]\n",
    "my_tuple = tuple(my_list)\n",
    "print(my_tuple)\n",
    "\n",
    "# Converting a Tuple to a List\n",
    "\n",
    "# To convert a tuple to a list, you can use the list() function, passing the tuple as an argument.\n",
    "\n",
    "my_tuple = (1, 2, 3, 4)\n",
    "my_list = list(my_tuple)\n",
    "print(my_list)\n"
   ]
  }
 ],
 "metadata": {
  "kernelspec": {
   "display_name": "Python 3",
   "language": "python",
   "name": "python3"
  },
  "language_info": {
   "codemirror_mode": {
    "name": "ipython",
    "version": 3
   },
   "file_extension": ".py",
   "mimetype": "text/x-python",
   "name": "python",
   "nbconvert_exporter": "python",
   "pygments_lexer": "ipython3",
   "version": "3.12.2"
  }
 },
 "nbformat": 4,
 "nbformat_minor": 2
}
