{
 "cells": [
  {
   "cell_type": "code",
   "execution_count": 6,
   "metadata": {},
   "outputs": [],
   "source": [
    "# *******************************************************\n",
    "# Script referente a aula de PBL numero 10\n",
    "#\n",
    "# Author: Bruno Tebaldi Barbosa\n",
    "# Date: 2024-03-24\n",
    "# Objectives: If\n",
    "# *******************************************************\n"
   ]
  },
  {
   "cell_type": "code",
   "execution_count": 4,
   "metadata": {},
   "outputs": [
    {
     "name": "stdout",
     "output_type": "stream",
     "text": [
      "Audi\n",
      "BMW\n",
      "Subaru\n",
      "Toyota\n"
     ]
    }
   ],
   "source": [
    "# Condicionais\n",
    "\n",
    "# O exemplo a seguir mostra como os testes permitem responder a situações especiais\n",
    "# corretamente. Imagine que você tem uma lista de carros e deseja imprimir a\n",
    "# nome de cada carro. Os nomes dos carros são nomes próprios, portanto os nomes da maioria dos carros\n",
    "# deve ser impresso em caixa de título. Porém, o valor 'bmw' deve ser impresso\n",
    "# em letras maiúsculas.\n",
    "\n",
    "lista_carros = ['audi', 'bmw', 'subaru', 'toyota']\n",
    "for carro in lista_carros:\n",
    "    if carro == 'bmw':\n",
    "        print(carro.upper())\n",
    "    else:\n",
    "        print(carro.title())"
   ]
  },
  {
   "cell_type": "code",
   "execution_count": 6,
   "metadata": {},
   "outputs": [
    {
     "data": {
      "text/plain": [
       "True"
      ]
     },
     "execution_count": 6,
     "metadata": {},
     "output_type": "execute_result"
    }
   ],
   "source": [
    "# Testes Condicionais\n",
    "\n",
    "\n",
    "# Verificando a igualdade\n",
    "carro = 'bmw'\n",
    "carro == 'bmw'"
   ]
  },
  {
   "cell_type": "code",
   "execution_count": 9,
   "metadata": {},
   "outputs": [
    {
     "name": "stdout",
     "output_type": "stream",
     "text": [
      "teste 1: 'Audi' não é igual a 'audi'\n",
      "teste 2: 'Audi' é igual a 'audi'\n"
     ]
    }
   ],
   "source": [
    "# Ignorando maiúsculas e minúsculas ao verificar a igualdade\n",
    "\n",
    "carro = 'Audi'\n",
    "\n",
    "if carro == 'audi' :\n",
    "    print(f\"teste 1: '{carro}' é igual a 'audi'\")\n",
    "else:\n",
    "    print(f\"teste 1: '{carro}' não é igual a 'audi'\")\n",
    "\n",
    "\n",
    "if carro.lower() == 'audi' :\n",
    "    print(f\"teste 2: '{carro}' é igual a 'audi'\")\n",
    "else:\n",
    "    print(f\"teste 2: '{carro}' não é igual a 'audi'\")\n",
    "\n"
   ]
  },
  {
   "cell_type": "code",
   "execution_count": 10,
   "metadata": {},
   "outputs": [
    {
     "name": "stdout",
     "output_type": "stream",
     "text": [
      "'cogumelos' é diferente de 'anchovas'\n"
     ]
    }
   ],
   "source": [
    "# Verificando a desigualdade\n",
    "\n",
    "# O operador de desigualdade (!=) é utilizado para comparar se duas variaveis sao diferentes.\n",
    "\n",
    "request_topping = 'cogumelos'\n",
    "if request_topping != 'anchovas':\n",
    "    print(f\"'{request_topping}' é diferente de 'anchovas'\")"
   ]
  },
  {
   "cell_type": "code",
   "execution_count": 14,
   "metadata": {},
   "outputs": [
    {
     "name": "stdout",
     "output_type": "stream",
     "text": [
      "False\n",
      "True\n"
     ]
    }
   ],
   "source": [
    "# Using and to Check Multiple Conditions\n",
    "\n",
    "# Para verificar se duas condições são verdadeiras simultaneamente, use a palavra-chave\n",
    "# \"and\" para combinar os dois testes condicionais; se cada teste for aprovado, o resultado geral\n",
    "# expressão é avaliada como True.\n",
    "\n",
    "age_0 = 22\n",
    "age_1 = 18\n",
    "\n",
    "print(age_0 >= 21 and age_1 >= 21)\n",
    "\n",
    "age_1 = 22\n",
    "print(age_0 >= 21 and age_1 >= 21)\n"
   ]
  },
  {
   "cell_type": "code",
   "execution_count": 16,
   "metadata": {},
   "outputs": [
    {
     "name": "stdout",
     "output_type": "stream",
     "text": [
      "True\n",
      "False\n"
     ]
    }
   ],
   "source": [
    "# Using or to Check Multiple Conditions\n",
    "\n",
    "# A palavra-chave \"or\" também permite verificar múltiplas condições, mas passa\n",
    "# quando um ou ambos os testes individuais são aprovados.\n",
    "\n",
    "age_0 = 22\n",
    "age_1 = 18\n",
    "print( age_0 >= 21 or age_1 >= 21 )\n",
    "\n",
    "age_0 = 18\n",
    "print( age_0 >= 21 or age_1 >= 21 )\n"
   ]
  },
  {
   "cell_type": "code",
   "execution_count": 18,
   "metadata": {},
   "outputs": [
    {
     "name": "stdout",
     "output_type": "stream",
     "text": [
      "True\n",
      "False\n"
     ]
    }
   ],
   "source": [
    "# Checking Whether a Value Is in a List\n",
    "\n",
    "# Para descobrir se um determinado valor já está em uma lista, use a palavra-chave \"in\".\n",
    "\n",
    "requested_toppings = ['mushrooms', 'onions', 'pineapple']\n",
    "\n",
    "print( 'mushrooms' in requested_toppings )\n",
    " \n",
    "print( 'pepperoni' in requested_toppings )"
   ]
  },
  {
   "cell_type": "code",
   "execution_count": 20,
   "metadata": {},
   "outputs": [
    {
     "name": "stdout",
     "output_type": "stream",
     "text": [
      "Marie, you can post a response if you wish.\n"
     ]
    }
   ],
   "source": [
    "# Checking Whether a Value Is Not in a List\n",
    "\n",
    "# Para descobrir se um determinado valor não está em uma lista, use a palavra-chave \"not in\".\n",
    "\n",
    "banned_users = ['andrew', 'carolina', 'david']\n",
    "user = 'marie'\n",
    "\n",
    "if user not in banned_users:\n",
    "    print(f\"{user.title()}, nao esta na lista.\")\n"
   ]
  },
  {
   "cell_type": "code",
   "execution_count": 24,
   "metadata": {},
   "outputs": [
    {
     "name": "stdout",
     "output_type": "stream",
     "text": [
      "Desculpe, você é muito jovem para votar.\n",
      "Por favor, registre-se para votar assim que completar 18 anos!\n"
     ]
    }
   ],
   "source": [
    "# Declarações if-else\n",
    "\n",
    "# Um O bloco if-else é semelhante a uma instrução if simples, mas a instrução else \n",
    "# permite você define uma ação ou conjunto de ações que são executadas quando a \n",
    "# condicional teste falha.\n",
    "\n",
    "idade = 17\n",
    "if idade >= 18:\n",
    "    print(\"Você tem idade suficiente para votar!\")\n",
    "    print(\"Você já se registrou para votar?\")\n",
    "else:\n",
    "    print(\"Desculpe, você é muito jovem para votar.\")\n",
    "    print(\"Por favor, registre-se para votar assim que completar 18 anos!\")"
   ]
  },
  {
   "cell_type": "code",
   "execution_count": 26,
   "metadata": {},
   "outputs": [
    {
     "name": "stdout",
     "output_type": "stream",
     "text": [
      "Voce tem menos de 18 anos.\n"
     ]
    }
   ],
   "source": [
    "# Declarações if-elif-else \n",
    "\n",
    "# O Python executa apenas um bloco em uma cadeia if-elif-else. Ele executa cada \n",
    "# teste condicional em ordem, até um ser \"aprovado\". Quando um teste é aprovado, \n",
    "# o código seguinte a esse teste é executado e Python pula o restante dos testes.\n",
    "\n",
    "age = 12\n",
    "if age < 4:\n",
    "    print(\"Voce tem menos de 4 anos.\")\n",
    "elif age < 18:\n",
    "    print(\"Voce tem menos de 18 anos.\")\n",
    "else:\n",
    "    print(\"Voce tem 18 anos ou mais.\")"
   ]
  },
  {
   "cell_type": "code",
   "execution_count": 28,
   "metadata": {},
   "outputs": [
    {
     "name": "stdout",
     "output_type": "stream",
     "text": [
      "se vc tem 12 anos voce paga 25 reais\n"
     ]
    }
   ],
   "source": [
    "# Using Multiple elif Blocks\n",
    "\n",
    "age = 12\n",
    "if age < 4:\n",
    "    price = 0\n",
    "elif age < 18:\n",
    "    price = 25\n",
    "elif age < 65:\n",
    "    price = 40\n",
    "else:\n",
    "    price = 20\n",
    "\n",
    "\n",
    "print( f\"se vc tem {age} anos voce paga {price} reais\" )"
   ]
  },
  {
   "cell_type": "code",
   "execution_count": 30,
   "metadata": {},
   "outputs": [
    {
     "name": "stdout",
     "output_type": "stream",
     "text": [
      "se vc tem 12 anos voce paga 25 reais\n"
     ]
    }
   ],
   "source": [
    "# Omitting the else Block\n",
    "\n",
    "# Python não requer um bloco else no final de uma cadeia if-elif.\n",
    "\n",
    "age = 12\n",
    "if age < 4:\n",
    "    price = 0\n",
    "elif age < 18:\n",
    "    price = 25\n",
    "elif age < 65:\n",
    "    price = 40\n",
    "elif age >= 65:\n",
    "    price = 20\n",
    "\n",
    "\n",
    "print( f\"se vc tem {age} anos voce paga {price} reais\" )"
   ]
  },
  {
   "cell_type": "code",
   "execution_count": 31,
   "metadata": {},
   "outputs": [
    {
     "name": "stdout",
     "output_type": "stream",
     "text": [
      "Adding mushrooms.\n",
      "\n",
      "Finished making your pizza!\n",
      "Adding green peppers.\n",
      "\n",
      "Finished making your pizza!\n",
      "Adding extra cheese.\n",
      "\n",
      "Finished making your pizza!\n"
     ]
    }
   ],
   "source": [
    "#  Checking for Special Items\n",
    "\n",
    "# This chapter began with a simple example that showed how to handle a special\n",
    "# value like 'bmw', which needed to be printed in a different format than\n",
    "# other values in the list. Now that you have a basic understanding of conditional\n",
    "# tests and if statements, let’s take a closer look at how you can watch\n",
    "# for special values in a list and handle those values appropriately.\n",
    "# Let’s continue with the pizzeria example. The pizzeria displays a message\n",
    "# whenever a topping is added to your pizza, as it’s being made. The code\n",
    "# for this action can be written very efficiently by making a list of toppings the\n",
    "# customer has requested and using a loop to announce each topping as it’s\n",
    "# added to the pizza:\n",
    "\n",
    "requested_toppings = ['mushrooms', 'green peppers', 'extra cheese']\n",
    "for requested_topping in requested_toppings:\n",
    "    print(f\"Adding {requested_topping}.\")\n",
    "    print(\"\\nFinished making your pizza!\")"
   ]
  },
  {
   "cell_type": "code",
   "execution_count": 41,
   "metadata": {},
   "outputs": [
    {
     "name": "stdout",
     "output_type": "stream",
     "text": [
      "Nao ha ingredientes a serem adicionados\n",
      "Adicionando o ingrediente cebola.\n",
      "Adicionando o ingrediente tomate.\n",
      "Adicionando o ingrediente pimentao.\n",
      "Adicionando o ingrediente salsa.\n",
      "Adicionando o ingrediente tomilho.\n",
      "\n",
      "Fim dos ingredientes!\n"
     ]
    }
   ],
   "source": [
    "# Checking That a List Is Not Empty\n",
    "\n",
    "lista_de_ingredientes = []\n",
    "if lista_de_ingredientes:\n",
    "    for ingrediente in lista_de_ingredientes:\n",
    "        print(f\"Adicionando o ingrediente {ingrediente}.\")\n",
    "    print(\"\\nFim dos ingredientes!\")\n",
    "else:\n",
    "    print(\"Nao ha ingredientes a serem adicionados\")\n",
    "\n",
    "\n",
    "lista_de_ingredientes = [\"cebola\", \"tomate\", \"pimentao\", \"salsa\", \"tomilho\"]\n",
    "if lista_de_ingredientes:\n",
    "    for ingrediente in lista_de_ingredientes:\n",
    "        print(f\"Adicionando o ingrediente {ingrediente}.\")\n",
    "    print(\"\\nFim dos ingredientes!\")\n",
    "else:\n",
    "    print(\"Nao ha ingredientes a serem adicionados\")"
   ]
  },
  {
   "cell_type": "code",
   "execution_count": 44,
   "metadata": {},
   "outputs": [
    {
     "name": "stdout",
     "output_type": "stream",
     "text": [
      "Adding mushrooms.\n",
      ">>> Sorry, we don't have french fries.\n",
      "Adding extra cheese.\n",
      "\n",
      "Finished making your pizza!\n"
     ]
    }
   ],
   "source": [
    "# Using Multiple Lists\n",
    "\n",
    "lista_de_ingredientes = ['mushrooms', 'olives', 'green peppers', 'pepperoni', 'pineapple', 'extra cheese']\n",
    "ingredientes_selecionados = ['mushrooms', 'french fries', 'extra cheese']\n",
    "for ingrediente_sele in ingredientes_selecionados:\n",
    "    if ingrediente_sele in lista_de_ingredientes:\n",
    "        print(f\"Adding {ingrediente_sele}.\")\n",
    "    else:\n",
    "        print(f\">>> Sorry, we don't have {ingrediente_sele}.\")\n",
    "print(\"\\nFinished making your pizza!\")"
   ]
  }
 ],
 "metadata": {
  "kernelspec": {
   "display_name": "Python 3",
   "language": "python",
   "name": "python3"
  },
  "language_info": {
   "codemirror_mode": {
    "name": "ipython",
    "version": 3
   },
   "file_extension": ".py",
   "mimetype": "text/x-python",
   "name": "python",
   "nbconvert_exporter": "python",
   "pygments_lexer": "ipython3",
   "version": "3.12.2"
  }
 },
 "nbformat": 4,
 "nbformat_minor": 2
}
