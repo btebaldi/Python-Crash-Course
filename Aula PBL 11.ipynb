{
 "cells": [
  {
   "cell_type": "code",
   "execution_count": 19,
   "metadata": {},
   "outputs": [],
   "source": [
    "# *******************************************************\n",
    "# Script referente a aula de PBL numero 9\n",
    "#\n",
    "# Author: Bruno Tebaldi Barbosa\n",
    "# Date: 2024-03-24\n",
    "# Objectives: Sets\n",
    "# *******************************************************\n"
   ]
  },
  {
   "cell_type": "code",
   "execution_count": 20,
   "metadata": {},
   "outputs": [
    {
     "name": "stdout",
     "output_type": "stream",
     "text": [
      "{1, 2, 3, 4, 5} is a <class 'set'>\n",
      "{1, 2, 3, 4} is a <class 'set'>\n",
      "set() is a <class 'set'>\n",
      "{} is a <class 'dict'>\n"
     ]
    }
   ],
   "source": [
    "# declaring sets\n",
    "\n",
    "# In Python, sets are collections of unique elements and can be declared in several ways.\n",
    "\n",
    "### 1. Using Curly Braces `{}`\n",
    "\n",
    "my_set = {1, 2, 3, 4, 5}\n",
    "print(f\"{my_set} is a {type(my_set)}\")\n",
    "\n",
    "\n",
    "### 2. Using the `set()` Constructor\n",
    "\n",
    "# Creating an empty set\n",
    "empty_set = set()\n",
    "\n",
    "# Creating a set from a list\n",
    "list_of_elements = [1, 2, 3, 3, 4, 4]\n",
    "set_from_list = set(list_of_elements)\n",
    "print(f\"{set_from_list} is a {type(set_from_list)}\")\n",
    "\n",
    "# # Note: {} alone without set() initializes an empty dictionary, not a set.\n",
    "empty_set = set()\n",
    "empty_dic = {}\n",
    "print(f\"{empty_set} is a {type(empty_set)}\")\n",
    "print(f\"{empty_dic} is a {type(empty_dic)}\")\n"
   ]
  },
  {
   "cell_type": "code",
   "execution_count": 21,
   "metadata": {},
   "outputs": [
    {
     "name": "stdout",
     "output_type": "stream",
     "text": [
      "{'o', 'l', 'e', 'h'}\n",
      "squares = {1, 4, 9, 16, 25}\n"
     ]
    }
   ],
   "source": [
    "# Creating a Set with String Elements\n",
    "\n",
    "# You can also create a set directly from a string,\n",
    "# which will separate the string into its component characters.\n",
    "\n",
    "string_set = set(\"hello\")\n",
    "print(string_set) \n",
    "\n",
    "\n",
    "# Set Comprehensions\n",
    "\n",
    "# Python supports set comprehensions, which allow you to build a set based on some iterable in a manner similar to list comprehensions.\n",
    "\n",
    "# Creating a set of square numbers from 1 to 5\n",
    "squares = {x**2 for x in range(1, 6)}\n",
    "print(f\"squares = {squares}\") \n",
    "\n",
    "# These are the primary ways to declare and initialize sets in Python,\n",
    "# making them a versatile tool for storing unique elements and performing \n",
    "# operations like union, intersection, and set difference."
   ]
  },
  {
   "cell_type": "code",
   "execution_count": 22,
   "metadata": {},
   "outputs": [
    {
     "name": "stdout",
     "output_type": "stream",
     "text": [
      "intersection result 1: {4, 5}\n",
      "intersection result 2: {4, 5}\n"
     ]
    }
   ],
   "source": [
    "# Intersection\n",
    "\n",
    "# Using the intersection() method\n",
    "set1 = {1, 2, 3, 4, 5}\n",
    "set2 = {4, 5, 6, 7, 8}\n",
    "result = set1.intersection(set2)\n",
    "print(f\"intersection result 1: {result}\")\n",
    "\n",
    "# Using the & operator\n",
    "result = set1 & set2\n",
    "print(f\"intersection result 2: {result}\")"
   ]
  },
  {
   "cell_type": "code",
   "execution_count": 23,
   "metadata": {},
   "outputs": [
    {
     "name": "stdout",
     "output_type": "stream",
     "text": [
      "Union result 1: {1, 2, 3, 4, 5, 6, 7, 8}\n",
      "Union result 2: {1, 2, 3, 4, 5, 6, 7, 8}\n"
     ]
    }
   ],
   "source": [
    "# Union\n",
    "\n",
    "# Using the union() method\n",
    "set1 = {1, 2, 3, 4, 5}\n",
    "set2 = {4, 5, 6, 7, 8}\n",
    "result = set1.union(set2)\n",
    "print(f\"Union result 1: {result}\")\n",
    "\n",
    "# Using the | operator\n",
    "result = set1 | set2\n",
    "print(f\"Union result 2: {result}\")"
   ]
  },
  {
   "cell_type": "code",
   "execution_count": 24,
   "metadata": {},
   "outputs": [
    {
     "name": "stdout",
     "output_type": "stream",
     "text": [
      "Difference result 1: {1, 2, 3}\n",
      "Difference result 2: {1, 2, 3}\n"
     ]
    }
   ],
   "source": [
    "# Difference\n",
    "\n",
    "# Using the difference() method:\n",
    "set1 = {1, 2, 3, 4, 5}\n",
    "set2 = {4, 5, 6, 7, 8}\n",
    "result = set1.difference(set2)  # Elements in set1 but not in set2\n",
    "print(f\"Difference result 1: {result}\")\n",
    "\n",
    "# Using the - operator:\n",
    "set1 = {1, 2, 3, 4, 5}\n",
    "set2 = {4, 5, 6, 7, 8}\n",
    "result = set1 - set2  # Elements in set1 but not in set2\n",
    "print(f\"Difference result 2: {result}\")"
   ]
  },
  {
   "cell_type": "code",
   "execution_count": 25,
   "metadata": {},
   "outputs": [
    {
     "name": "stdout",
     "output_type": "stream",
     "text": [
      "set1: {1, 2, 3, 4, 5}\n",
      "set2: {4, 5, 6, 7, 8}\n",
      "set1 - set2: {1, 2, 3}\n",
      "set2 - set1: {8, 6, 7}\n"
     ]
    }
   ],
   "source": [
    "# Both the difference() method and the - operator will give you the elements that are \n",
    "# unique to the first set compared to the second.\n",
    "\n",
    "# It's worth noting that set difference is not symmetric; \n",
    "# That means set1 - set2 can differ from set2 - set1:\n",
    "print(f\"set1: {set1}\")\n",
    "print(f\"set2: {set2}\")\n",
    "\n",
    "result = set1 - set2  # Elements in set2 but not in set1\n",
    "print(f\"set1 - set2: {result}\")\n",
    "\n",
    "result = set2 - set1  # Elements in set2 but not in set1\n",
    "print(f\"set2 - set1: {result}\")\n"
   ]
  },
  {
   "cell_type": "code",
   "execution_count": 26,
   "metadata": {},
   "outputs": [
    {
     "name": "stdout",
     "output_type": "stream",
     "text": [
      "{1, 2, 6, 7, 8, 9, 10}\n"
     ]
    }
   ],
   "source": [
    "# Complement\n",
    "\n",
    "# Define the universal set U and a subset A\n",
    "U = {1, 2, 3, 4, 5, 6, 7, 8, 9, 10}\n",
    "A = {3, 4, 5}\n",
    "\n",
    "# Find the complement of A with respect to U\n",
    "A_complement = U - A\n",
    "\n",
    "print(A_complement)  # Output: {1, 2, 6, 7, 8, 9, 10}"
   ]
  },
  {
   "cell_type": "code",
   "execution_count": 27,
   "metadata": {},
   "outputs": [
    {
     "name": "stdout",
     "output_type": "stream",
     "text": [
      "Yes, 3 is in the set.\n",
      "No, 6 is not in the set.\n"
     ]
    }
   ],
   "source": [
    "# Check if the set contains the element\n",
    "\n",
    "my_set = {1, 2, 3, 4, 5}\n",
    "\n",
    "# Check if the set contains the element 3\n",
    "if 3 in my_set:\n",
    "    print(\"Yes, 3 is in the set.\")\n",
    "else:\n",
    "    print(\"No, 3 is not in the set.\")\n",
    "\n",
    "# Check if the set contains the element 6\n",
    "if 6 in my_set:\n",
    "    print(\"Yes, 6 is in the set.\")\n",
    "else:\n",
    "    print(\"No, 6 is not in the set.\")\n"
   ]
  },
  {
   "cell_type": "code",
   "execution_count": 28,
   "metadata": {},
   "outputs": [
    {
     "name": "stdout",
     "output_type": "stream",
     "text": [
      "A is a subset of B.\n",
      "A is a subset of B.\n"
     ]
    }
   ],
   "source": [
    "# Subset\n",
    "\n",
    "# Using issubset() method:\n",
    "A = {1, 2, 3}\n",
    "B = {1, 2, 3, 4, 5}\n",
    "\n",
    "# Check if A is a subset of B\n",
    "if A.issubset(B):\n",
    "    print(\"A is a subset of B.\")\n",
    "else:\n",
    "    print(\"A is not a subset of B.\")\n",
    "\n",
    "# Using <= operator:\n",
    "\n",
    "# Check if A is a subset of B\n",
    "if A <= B:\n",
    "    print(\"A is a subset of B.\")\n",
    "else:\n",
    "    print(\"A is not a subset of B.\")\n",
    "\n",
    "# Both methods will confirm that A is a subset of B in this case.\n",
    "# Note that every set is considered a subset of itself, so A.issubset(A) or A <= A will also return True.\n",
    "\n"
   ]
  },
  {
   "cell_type": "code",
   "execution_count": 32,
   "metadata": {},
   "outputs": [
    {
     "name": "stdout",
     "output_type": "stream",
     "text": [
      "recall that:\n",
      "A = {1, 2, 3}\n",
      "B = {1, 2, 3, 4, 5}\n",
      "A is a proper subset of B.\n"
     ]
    }
   ],
   "source": [
    "# Proper Subset\n",
    "\n",
    "# Additionally, if you want to check if A is a proper subset of B\n",
    "# (meaning A is a subset of B but not equal to B), you can use the < operator:\n",
    "\n",
    "print(f\"recall that:\\nA = {A}\\nB = {B}\")\n",
    "\n",
    "# Check if A is a proper subset of B\n",
    "if A < B:\n",
    "    print(\"A is a proper subset of B.\")\n",
    "else:\n",
    "    print(\"A is not a proper subset of B.\")\n"
   ]
  },
  {
   "cell_type": "code",
   "execution_count": 34,
   "metadata": {},
   "outputs": [
    {
     "name": "stdout",
     "output_type": "stream",
     "text": [
      "A is not a superset of B.\n",
      "B is a superset of A.\n",
      "A is not a superset of B.\n",
      "B is a superset of A.\n"
     ]
    }
   ],
   "source": [
    "# Subset\n",
    "\n",
    "# Using issuperset() method:\n",
    "A = {1, 2, 3}\n",
    "B = {1, 2, 3, 4, 5}\n",
    "\n",
    "# Check if A is a superset of B\n",
    "if A.issuperset(B):\n",
    "    print(\"A is a superset of B.\")\n",
    "else:\n",
    "    print(\"A is not a superset of B.\")\n",
    "\n",
    "# Check if A is a superset of B\n",
    "if B.issuperset(A):\n",
    "    print(\"B is a superset of A.\")\n",
    "else:\n",
    "    print(\"B is not a superset of A.\")\n",
    "\n",
    "\n",
    "# Using >= operator:\n",
    "\n",
    "# Check if A is a subset of B\n",
    "if A >= B:\n",
    "    print(\"A is a superset of B.\")\n",
    "else:\n",
    "    print(\"A is not a superset of B.\")\n",
    "\n",
    "# Check if B is a subset of A\n",
    "if B >= A:\n",
    "    print(\"B is a superset of A.\")\n",
    "else:\n",
    "    print(\"B is not a superset of A.\")\n",
    "\n",
    "# Both methods will confirm that B is a superset of A in this case."
   ]
  },
  {
   "cell_type": "code",
   "execution_count": 36,
   "metadata": {},
   "outputs": [
    {
     "name": "stdout",
     "output_type": "stream",
     "text": [
      "A is a proper superset of B.\n"
     ]
    }
   ],
   "source": [
    "# In the context of Python sets, the expression A > B is used to check if set A is a proper superset of set B.\n",
    "# This means that the operation checks whether all elements of set B are contained within set A, \n",
    "# and additionally, A contains at least one element not in B.\n",
    "\n",
    "A = {1, 2, 3, 4, 5}\n",
    "B = {2, 3}\n",
    "\n",
    "if A > B:\n",
    "    print(\"A is a proper superset of B.\")\n",
    "else:\n",
    "    print(\"A is not a proper superset of B.\")\n",
    "\n",
    "# In this example, A > B would return True because all elements of B are in A, and A contains additional\n",
    "# elements not in B, making A a proper superset of B."
   ]
  }
 ],
 "metadata": {
  "kernelspec": {
   "display_name": "Python 3",
   "language": "python",
   "name": "python3"
  },
  "language_info": {
   "codemirror_mode": {
    "name": "ipython",
    "version": 3
   },
   "file_extension": ".py",
   "mimetype": "text/x-python",
   "name": "python",
   "nbconvert_exporter": "python",
   "pygments_lexer": "ipython3",
   "version": "3.12.2"
  }
 },
 "nbformat": 4,
 "nbformat_minor": 2
}
