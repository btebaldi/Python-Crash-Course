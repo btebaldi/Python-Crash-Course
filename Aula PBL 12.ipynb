{
 "cells": [
  {
   "cell_type": "code",
   "execution_count": 1,
   "metadata": {},
   "outputs": [],
   "source": [
    "# *******************************************************\n",
    "# Script referente a aula de PBL numero 9\n",
    "#\n",
    "# Author: Bruno Tebaldi Barbosa\n",
    "# Date: 2024-03-24\n",
    "# Objectives: Dicionarios\n",
    "# *******************************************************\n"
   ]
  },
  {
   "cell_type": "code",
   "execution_count": 2,
   "metadata": {},
   "outputs": [],
   "source": [
    "# - Atribuir rótulos a valores?\n",
    "# - Como fazer/como funciona um dicionário\n",
    "# - Operações com dicionário (alterar, substituir, adicionar, ordenar, criar, remover, acessar itens)\n",
    "# - É possível utilizar loop/condicionais"
   ]
  },
  {
   "cell_type": "code",
   "execution_count": 3,
   "metadata": {},
   "outputs": [
    {
     "name": "stdout",
     "output_type": "stream",
     "text": [
      "my_dict = {'name': 'John', 'age': 30, 'city': 'New York'} is a <class 'dict'>\n",
      "dict_from_tuples = {'name': 'Alice', 'age': 25, 'city': 'Los Angeles'} is a <class 'dict'>\n",
      "dict_from_kwargs = {'name': 'Bob', 'age': 20, 'city': 'Chicago'} is a <class 'dict'>\n",
      "squares = {0: 0, 1: 1, 2: 4, 3: 9, 4: 16, 5: 25} is a <class 'dict'>\n",
      "empty_dict = {} is a <class 'dict'>\n",
      "another_empty_dict = {} is a <class 'dict'>\n"
     ]
    }
   ],
   "source": [
    "# A Simple Dictionary\n",
    "\n",
    "# In Python, dictionaries are data structures that store key-value pairs.\n",
    "# Each key must be unique within a dictionary, and keys are typically strings \n",
    "# or numbers, but they can be any immutable type. \n",
    "\n",
    "### 1. Using Curly Braces `{}`\n",
    "\n",
    "# Creating a dictionary with curly braces\n",
    "my_dict = {'name': 'John', 'age': 30, 'city': 'New York'}\n",
    "print(f\"my_dict = {my_dict} is a {type(my_dict)}\")\n",
    "\n",
    "### 2. Using the `dict()` Constructor\n",
    "# Using a list of tuples\n",
    "list_of_tuples = [('name', 'Alice'), ('age', 25), ('city', 'Los Angeles')]\n",
    "dict_from_tuples = dict(list_of_tuples)\n",
    "print(f\"dict_from_tuples = {dict_from_tuples} is a {type(dict_from_tuples)}\")\n",
    "\n",
    "# Using keyword arguments\n",
    "dict_from_kwargs = dict(name='Bob', age=20, city='Chicago')\n",
    "print(f\"dict_from_kwargs = {dict_from_kwargs} is a {type(dict_from_kwargs)}\")\n",
    "\n",
    "### 3. Dictionary Comprehensions\n",
    "\n",
    "# Creating a dictionary with keys as numbers and values as their squares\n",
    "squares = {x: x**2 for x in range(6)}\n",
    "print(f\"squares = {squares} is a {type(squares)}\")\n",
    "\n",
    "\n",
    "### 4. Creating an Empty Dictionary\n",
    "\n",
    "# Creating an empty dictionary with curly braces\n",
    "empty_dict = {}\n",
    "\n",
    "# Creating an empty dictionary with dict() constructor\n",
    "another_empty_dict = dict()\n",
    "\n",
    "print(f\"empty_dict = {empty_dict} is a {type(empty_dict)}\")\n",
    "print(f\"another_empty_dict = {another_empty_dict} is a {type(another_empty_dict)}\")\n",
    "\n"
   ]
  },
  {
   "cell_type": "code",
   "execution_count": 4,
   "metadata": {},
   "outputs": [
    {
     "name": "stdout",
     "output_type": "stream",
     "text": [
      "my_dict before add = {'name': 'John', 'age': 30, 'city': 'New York'}\n",
      "my_dict after add = {'name': 'John', 'age': 31, 'city': 'New York', 'job': 'Engineer'}\n"
     ]
    }
   ],
   "source": [
    "# Adding and Modifying Dictionary Entries\n",
    "\n",
    "# After a dictionary is declared, you can add new key-value pairs or modify existing ones by assigning values to keys directly.\n",
    "\n",
    "print(f\"my_dict before add = {my_dict}\")\n",
    "# Adding a new key-value pair\n",
    "my_dict['job'] = 'Engineer'\n",
    "\n",
    "# Modifying an existing key\n",
    "my_dict['age'] = 31\n",
    "\n",
    "print(f\"my_dict after add = {my_dict}\")\n",
    "\n",
    "\n",
    "# Dictionaries are extremely flexible and powerful data structures in Python, \n",
    "# useful for a wide range of applications where associative mappings are needed."
   ]
  },
  {
   "cell_type": "code",
   "execution_count": 6,
   "metadata": {},
   "outputs": [
    {
     "name": "stdout",
     "output_type": "stream",
     "text": [
      "my_dict = {'name': 'John', 'city': 'New York'}\n",
      "age = 25\n",
      "my_dict = {'name': 'Alice', 'city': 'Los Angeles'}\n",
      "my_dict = {'name': 'Alice', 'city': 'Los Angeles'}\n",
      "job = No Job Specified (this is the default)\n",
      "item = ('city', 'Chicago')\n",
      "my_dict = {'name': 'Bob', 'age': 20}\n",
      "my_dict = {} (cleared)\n"
     ]
    }
   ],
   "source": [
    "# Removing key-value pairs \n",
    "\n",
    "# Removing key-value pairs from a dictionary in Python can be done in several ways. \n",
    "\n",
    "### 1. Using the `del` Keyword\n",
    "\n",
    "# You can remove a key from a dictionary along with its associated value using the \n",
    "# `del` keyword. If the key is not present, it will raise a `KeyError`.\n",
    "\n",
    "my_dict = {'name': 'John', 'age': 30, 'city': 'New York'}\n",
    "del my_dict['age']\n",
    "print(f\"my_dict = {my_dict}\")\n",
    "\n",
    "\n",
    "### 2. Using the `pop()` Method\n",
    "\n",
    "# The `pop()` method removes the key and returns the value. If the key does not exist,\n",
    "#  it raises a `KeyError`, unless a default value is specified, which will be returned\n",
    "#  instead.\n",
    "\n",
    "\n",
    "my_dict = {'name': 'Alice', 'age': 25, 'city': 'Los Angeles'}\n",
    "age = my_dict.pop('age')\n",
    "print(f\"age = {age}\")\n",
    "print(f\"my_dict = {my_dict}\")\n",
    "\n",
    "# Using pop() with a default value\n",
    "print(f\"my_dict = {my_dict}\")\n",
    "job = my_dict.pop('job', 'No Job Specified')\n",
    "print(f\"job = {job} (this is the default)\")\n",
    "\n",
    "\n",
    "### 3. Using the `popitem()` Method\n",
    "\n",
    "# The `popitem()` method removes the last inserted key-value pair from the dictionary \n",
    "# and returns it as a tuple. If the dictionary is empty, it raises a `KeyError`. This \n",
    "# method can be useful when you need to process and remove items in a LIFO (Last In, \n",
    "# First Out) manner.\n",
    "\n",
    "my_dict = {'name': 'Bob', 'age': 20, 'city': 'Chicago'}\n",
    "item = my_dict.popitem()\n",
    "print(f\"item = {item}\")\n",
    "print(f\"my_dict = {my_dict}\")\n",
    "\n",
    "### 4. Using the `clear()` Method\n",
    "\n",
    "# If you want to remove all items from the dictionary, making it empty, you can use the \n",
    "# `clear()` method.\n",
    "\n",
    "my_dict = {'name': 'John', 'age': 30, 'city': 'New York'}\n",
    "my_dict.clear()\n",
    "print(f\"my_dict = {my_dict} (cleared)\")\n"
   ]
  },
  {
   "cell_type": "code",
   "execution_count": 14,
   "metadata": {},
   "outputs": [
    {
     "name": "stdout",
     "output_type": "stream",
     "text": [
      "Alice\n",
      "age = None\n",
      "age with default = default value here\n"
     ]
    }
   ],
   "source": [
    "# The `get()` method in Python dictionaries is a convenient way to access values\n",
    "# associated with a specific key. This method offers a key advantage over the direct key\n",
    "# access method: it allows you to handle missing keys gracefully without raising a `KeyError`.\n",
    "\n",
    "my_dict = {'name': 'Alice', 'age': 25}\n",
    "name = my_dict.get('name')\n",
    "print(name)\n",
    "\n",
    "# 2. **Accessing a Non-Existing Key**\n",
    "\n",
    "#  If the key does not exist, `get()` returns the default value, which is `None` if not otherwise specified.\n",
    "age = my_dict.get('height')\n",
    "print(f\"age = {age}\")\n",
    "\n",
    "age = my_dict.get('height', \"default value here\")\n",
    "print(f\"age with default = {age}\")"
   ]
  },
  {
   "cell_type": "code",
   "execution_count": null,
   "metadata": {},
   "outputs": [],
   "source": [
    "# List keys\n",
    "\n",
    "# This method returns a view object that displays a list of all the keys in the dictionary.\n",
    "\n",
    "my_dict = {'name': 'Alice', 'age': 25, 'city': 'Los Angeles'}\n",
    "print(my_dict.keys())"
   ]
  },
  {
   "cell_type": "code",
   "execution_count": 21,
   "metadata": {},
   "outputs": [
    {
     "name": "stdout",
     "output_type": "stream",
     "text": [
      "dict_values(['Alice', 25, 'Engineer', 'San Francisco'])\n"
     ]
    }
   ],
   "source": [
    "# List values\n",
    "\n",
    "# Similar to `keys()`, this method returns a view object containing all the values in the dictionary.\n",
    "\n",
    "print(my_dict.values())"
   ]
  },
  {
   "cell_type": "code",
   "execution_count": 20,
   "metadata": {},
   "outputs": [
    {
     "name": "stdout",
     "output_type": "stream",
     "text": [
      "dict_items([('name', 'Alice'), ('age', 25), ('job', 'Engineer'), ('city', 'San Francisco')])\n"
     ]
    }
   ],
   "source": [
    "# List items()\n",
    "\n",
    "# This method returns a view of the dictionary's items (key-value pairs) as tuples in a list-like format.\n",
    "print(my_dict.items())"
   ]
  },
  {
   "cell_type": "code",
   "execution_count": 19,
   "metadata": {},
   "outputs": [
    {
     "name": "stdout",
     "output_type": "stream",
     "text": [
      "my_dict = {'name': 'Alice', 'age': 25}\n",
      "my_dict = {'name': 'Alice', 'age': 25, 'job': 'Engineer', 'city': 'San Francisco'}\n"
     ]
    }
   ],
   "source": [
    "# update()\n",
    "\n",
    "# `update()` allows you to merge two dictionaries or add multiple key-value pairs to a dictionary\n",
    "# in one operation. If the key already exists, its value will be updated.\n",
    "\n",
    "print(f\"my_dict = {my_dict}\")\n",
    "my_dict.update({'job': 'Engineer', 'city': 'San Francisco'})\n",
    "print(f\"my_dict = {my_dict}\")"
   ]
  },
  {
   "cell_type": "code",
   "execution_count": 16,
   "metadata": {},
   "outputs": [
    {
     "name": "stdout",
     "output_type": "stream",
     "text": [
      "{'name': 'Phillip', 'age': 22, 'salary': 50000}\n",
      "Salary: 50000\n",
      "{'name': 'Phillip', 'age': 22, 'salary': 50000}\n",
      "Age: 22\n"
     ]
    }
   ],
   "source": [
    "# setdefault()\n",
    "\n",
    "# This method returns the value of a specified key. If the key does not exist: insert the key,\n",
    "# with the specified value, see example below:\n",
    "person = {'name': 'Phillip', 'age': 22}\n",
    "\n",
    "# key is not in the dictionary, it is added with the specified default value\n",
    "salary = person.setdefault('salary', 50000)\n",
    "print(person)\n",
    "print('Salary:', salary)\n",
    "\n",
    "# key is in the dictionary, return its value\n",
    "age = person.setdefault('age', 30)\n",
    "print(person)\n",
    "print('Age:', age)"
   ]
  },
  {
   "cell_type": "code",
   "execution_count": 18,
   "metadata": {},
   "outputs": [
    {
     "name": "stdout",
     "output_type": "stream",
     "text": [
      "my_dict = {'name': 'Alice', 'age': 25}\n",
      "new_dict = {'name': 'Alice', 'age': 30}\n"
     ]
    }
   ],
   "source": [
    "# copy()\n",
    "\n",
    "# Creates a shallow copy of the dictionary, useful when you need to modify a dictionary without altering the original.\n",
    "\n",
    "new_dict = my_dict.copy()\n",
    "new_dict['age'] = 30\n",
    "print(f\"my_dict = {my_dict}\")\n",
    "print(f\"new_dict = {new_dict}\")"
   ]
  },
  {
   "cell_type": "code",
   "execution_count": null,
   "metadata": {},
   "outputs": [],
   "source": [
    "# fromkeys()\n",
    "\n",
    "# This is a class method that creates a new dictionary with keys from an iterable and values set to a specified value.\n",
    "\n",
    "keys = ['a', 'b', 'c']\n",
    "default_value = 1\n",
    "new_dict = dict.fromkeys(keys, default_value)\n",
    "print(f\"new_dict = {new_dict}\")"
   ]
  },
  {
   "cell_type": "code",
   "execution_count": 23,
   "metadata": {},
   "outputs": [
    {
     "name": "stdout",
     "output_type": "stream",
     "text": [
      "key = name\n",
      "key = age\n",
      "key = job\n",
      "key = city\n",
      "value = Alice\n",
      "value = 25\n",
      "value = Engineer\n",
      "value = San Francisco\n",
      "key = name\t value = Alice\n",
      "key = age\t value = 25\n",
      "key = job\t value = Engineer\n",
      "key = city\t value = San Francisco\n"
     ]
    }
   ],
   "source": [
    "# Looping Over Keys\n",
    "\n",
    "# my_dict = {'name': 'Alice', 'age': 25, 'city': 'Los Angeles'}\n",
    "\n",
    "for key in my_dict:\n",
    "    print(f\"key = {key}\")  # Prints: name, age, city\n",
    "\n",
    "# Looping Over Values\n",
    "\n",
    "for value in my_dict.values():\n",
    "    print(f\"value = {value}\")  # Prints: Alice, 25, Los Angeles\n",
    "\n",
    "# Looping Over Key-Value Pairs\n",
    "\n",
    "for key, value in my_dict.items():\n",
    "    print(f\"key = {key}\\t value = {value}\")"
   ]
  }
 ],
 "metadata": {
  "kernelspec": {
   "display_name": "Python 3",
   "language": "python",
   "name": "python3"
  },
  "language_info": {
   "codemirror_mode": {
    "name": "ipython",
    "version": 3
   },
   "file_extension": ".py",
   "mimetype": "text/x-python",
   "name": "python",
   "nbconvert_exporter": "python",
   "pygments_lexer": "ipython3",
   "version": "3.12.2"
  }
 },
 "nbformat": 4,
 "nbformat_minor": 2
}
