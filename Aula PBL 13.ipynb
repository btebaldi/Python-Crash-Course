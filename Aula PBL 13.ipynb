{
 "cells": [
  {
   "cell_type": "code",
   "execution_count": 21,
   "metadata": {},
   "outputs": [],
   "source": [
    "# *******************************************************\n",
    "# Script referente a aula de PBL numero 9\n",
    "#\n",
    "# Author: Bruno Tebaldi Barbosa\n",
    "# Date: 2024-03-24\n",
    "# Objectives: Dictionaries 2\n",
    "# *******************************************************\n"
   ]
  },
  {
   "cell_type": "code",
   "execution_count": 22,
   "metadata": {},
   "outputs": [
    {
     "name": "stdout",
     "output_type": "stream",
     "text": [
      "{'dict1': {'key1': 'value1', 'key2': 'value2'}, 'dict2': {'key3': 'value3', 'key4': 'value4'}} is of the type <class 'dict'>\n"
     ]
    }
   ],
   "source": [
    "# Nested dictionaries in Python are essentially dictionaries that contain other \n",
    "# dictionaries as their values. This structure allows for a more hierarchical \n",
    "# organization of data, akin to JSON objects used in many web APIs.\n",
    "\n",
    "# Creating a Nested Dictionary\n",
    "\n",
    "# A nested dictionary is created by simply defining a dictionary inside another dictionary.\n",
    "\n",
    "nested_dict = {\n",
    "    'dict1': {'key1': 'value1', 'key2': 'value2'},\n",
    "    'dict2': {'key3': 'value3', 'key4': 'value4'}\n",
    "}\n",
    "\n",
    "print(f\"{nested_dict} is of the type {type(nested_dict)}\")"
   ]
  },
  {
   "cell_type": "code",
   "execution_count": 23,
   "metadata": {},
   "outputs": [
    {
     "name": "stdout",
     "output_type": "stream",
     "text": [
      "nested_dict = {'dict1': {'key1': 'value1', 'key2': 'value2'}, 'dict2': {'key3': 'value3', 'key4': 'value4'}}\n",
      "value1\n"
     ]
    }
   ],
   "source": [
    "# Accessing Elements\n",
    "\n",
    "# To access elements in a nested dictionary, you chain the keys together \n",
    "# using the square bracket `[]` notation. For instance:\n",
    "\n",
    "print(f\"nested_dict = {nested_dict}\") \n",
    "\n",
    "print(nested_dict['dict1']['key1'])"
   ]
  },
  {
   "cell_type": "code",
   "execution_count": 24,
   "metadata": {},
   "outputs": [
    {
     "name": "stdout",
     "output_type": "stream",
     "text": [
      "nested_dict = {'dict1': {'key1': 'value1', 'key2': 'value2'}, 'dict2': {'key3': 'value3', 'key4': 'value4'}}\n",
      "nested_dict = {'dict1': {'key1': 'new value', 'key2': 'value2'}, 'dict2': {'key3': 'value3', 'key4': 'value4'}}\n",
      "new value\n"
     ]
    }
   ],
   "source": [
    "# Modifying Elements\n",
    "\n",
    "# You can modify elements in a nested dictionary by accessing the key and\n",
    "# assigning a new value to it:\n",
    "\n",
    "print(f\"nested_dict = {nested_dict}\") \n",
    "\n",
    "nested_dict['dict1']['key1'] = 'new value'\n",
    "print(f\"nested_dict = {nested_dict}\") \n",
    "\n",
    "print(nested_dict['dict1']['key1'])"
   ]
  },
  {
   "cell_type": "code",
   "execution_count": 25,
   "metadata": {},
   "outputs": [
    {
     "name": "stdout",
     "output_type": "stream",
     "text": [
      "Outer Key: dict1 with inner_dict: {'key1': 'new value', 'key2': 'value2'}\n",
      "\tInner Key: key1, Value: new value\n",
      "\tInner Key: key2, Value: value2\n",
      "Outer Key: dict2 with inner_dict: {'key3': 'value3', 'key4': 'value4'}\n",
      "\tInner Key: key3, Value: value3\n",
      "\tInner Key: key4, Value: value4\n"
     ]
    }
   ],
   "source": [
    "# Iterating Over a Nested Dictionary\n",
    "\n",
    "# Iterating over a nested dictionary can be done in several ways, depending on what you need:\n",
    "\n",
    "# - Iterate over keys\n",
    "# - Iterate over values\n",
    "# - Iterate over items\n",
    "\n",
    "for outer_key, inner_dict in nested_dict.items():\n",
    "    print(f'Outer Key: {outer_key} with inner_dict: {inner_dict}')\n",
    "    \n",
    "    for inner_key, value in inner_dict.items():\n",
    "        print(f'\\tInner Key: {inner_key}, Value: {value}')"
   ]
  },
  {
   "cell_type": "code",
   "execution_count": 26,
   "metadata": {},
   "outputs": [
    {
     "name": "stdout",
     "output_type": "stream",
     "text": [
      "nested_dict = {'dict1': {'key1': 'new value', 'key2': 'value2'}, 'dict2': {'key3': 'value3', 'key4': 'value4'}}\n",
      "nested_dict = {'dict1': {'key1': 'new value', 'key2': 'value2'}, 'dict2': {'key3': 'value3', 'key4': 'value4'}, 'dict3': {'key5': 'value5'}}\n",
      "nested_dict = {'dict1': {'key1': 'new value', 'key2': 'value2', 'key3': 'value3'}, 'dict2': {'key3': 'value3', 'key4': 'value4'}, 'dict3': {'key5': 'value5'}}\n"
     ]
    }
   ],
   "source": [
    "# Adding New Sub-dictionaries or Updating Existing Ones\n",
    "\n",
    "# You can add a new dictionary as a value or update an existing sub-dictionary straightforwardly:\n",
    "\n",
    "print(f\"nested_dict = {nested_dict}\") \n",
    "\n",
    "# Adding a new dictionary\n",
    "nested_dict['dict3'] = {'key5': 'value5'}\n",
    "\n",
    "print(f\"nested_dict = {nested_dict}\") \n",
    "\n",
    "# Updating an existing dictionary\n",
    "nested_dict['dict1']['key3'] = 'value3'\n",
    "\n",
    "print(f\"nested_dict = {nested_dict}\") "
   ]
  },
  {
   "cell_type": "code",
   "execution_count": 39,
   "metadata": {},
   "outputs": [
    {
     "name": "stdout",
     "output_type": "stream",
     "text": [
      "nested_dict = {'dicionario1': {'name': 'Alice', 'age': 25}, 'dicionario2': {'name': 'Bob', 'age': 30}}\n",
      "nested_dict = {'dicionario1': {'name': 'Alice', 'age': 25}, 'dicionario2': {'name': 'Bob', 'age': 30}, 'dicionario3': {...}}\n",
      "nested_dict len = 3\n",
      "{'dicionario1': {'name': 'Alice', 'age': 25}, 'dicionario2': {'name': 'Bob', 'age': 30}, 'dicionario3': {...}}\n",
      "{'dicionario1': {'name': 'Alice', 'age': 25}, 'dicionario2': {'name': 'Bob', 'age': 30}}\n",
      "{'dicionario1': {'name': 'Alice', 'age': 25}, 'dicionario2': {'name': 'Bob', 'age': 30}}\n",
      "{'dicionario1': {'name': 'bla bla bla', 'age': 25}, 'dicionario2': {'name': 'Bob', 'age': 30}}\n",
      "{'dicionario1': {'name': 'bla bla bla', 'age': 25}, 'dicionario2': {'name': 'Bob', 'age': 30}}\n"
     ]
    }
   ],
   "source": [
    "# Be carfull for recursive definitions\n",
    "\n",
    "# For dictionaries containing other dictionaries (nested dictionaries), you can use nested loops to access deeper levels.\n",
    "\n",
    "dic1 = {'name': 'Alice', 'age': 25}\n",
    "dic2 = {'name': 'Bob', 'age': 30}\n",
    "\n",
    "nested_dict = {'dicionario1' : dic1, 'dicionario2' :dic2}\n",
    "\n",
    "print(f\"nested_dict = {nested_dict}\")\n",
    "\n",
    "nested_dict['dicionario3'] = nested_dict\n",
    "print(f\"nested_dict = {nested_dict}\")\n",
    "\n",
    "print(f\"nested_dict len = {len(nested_dict)}\")\n",
    "\n",
    "# you get an infinite recursion\n",
    "print(nested_dict[\"dicionario3\"][\"dicionario3\"][\"dicionario3\"])\n",
    "\n",
    "\n",
    "# poping the item causes a duplicate reference\n",
    "poped_item = nested_dict.pop(\"dicionario3\")\n",
    "print(poped_item)\n",
    "print(nested_dict)\n",
    "\n",
    "poped_item[\"dicionario1\"][\"name\"] = \"bla bla bla\"\n",
    "\n",
    "print(poped_item)\n",
    "print(nested_dict)\n"
   ]
  }
 ],
 "metadata": {
  "kernelspec": {
   "display_name": "Python 3",
   "language": "python",
   "name": "python3"
  },
  "language_info": {
   "codemirror_mode": {
    "name": "ipython",
    "version": 3
   },
   "file_extension": ".py",
   "mimetype": "text/x-python",
   "name": "python",
   "nbconvert_exporter": "python",
   "pygments_lexer": "ipython3",
   "version": "3.12.2"
  }
 },
 "nbformat": 4,
 "nbformat_minor": 2
}
