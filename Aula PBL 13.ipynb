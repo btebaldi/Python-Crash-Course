{
 "cells": [
  {
   "cell_type": "code",
   "execution_count": 6,
   "metadata": {},
   "outputs": [],
   "source": [
    "# *******************************************************\n",
    "# Script referente a aula de PBL numero 9\n",
    "#\n",
    "# Author: Bruno Tebaldi Barbosa\n",
    "# Date: 2024-03-24\n",
    "# Objectives: Dictionaries 2\n",
    "# *******************************************************\n"
   ]
  },
  {
   "cell_type": "code",
   "execution_count": null,
   "metadata": {},
   "outputs": [],
   "source": [
    "4. Nested Dictionaries\n",
    "For dictionaries containing other dictionaries (nested dictionaries), you can use nested loops to access deeper levels.\n",
    "\n",
    "python\n",
    "Copy code\n",
    "nested_dict = {'id1': {'name': 'Alice', 'age': 25},\n",
    "               'id2': {'name': 'Bob', 'age': 30}}\n",
    "\n",
    "for id_key, sub_dict in nested_dict.items():\n",
    "    print(f\"ID: {id_key}\")\n",
    "    for key in sub_dict:\n",
    "        print(f\"{key}: {sub_dict[key]}\")\n",
    "    # Output for each ID:\n",
    "    # ID: id1\n",
    "    # name: Alice\n",
    "    # age: 25\n",
    "    # ID: id2\n",
    "    # name: Bob\n",
    "    # age: 30\n",
    "5. Conditional Loops\n",
    "You can combine loops with conditions to filter items, modify data, or perform more complex operations based on certain criteria.\n",
    "\n",
    "python\n",
    "Copy code\n",
    "# Print only if age is greater than 25\n",
    "for key, value in my_dict.items():\n",
    "    if key == 'age' and value > 25:\n",
    "        print(f\"{key}: {value}\")  # No output in this specific case\n",
    "6. Using Comprehensions with Dictionaries\n",
    "Dictionary comprehensions provide a compact way to process dictionary items and construct new dictionaries.\n",
    "\n",
    "python\n",
    "Copy code\n",
    "# Create a new dictionary with the same keys but all values incremented by 10 if they are integers\n",
    "new_dict = {key: (value + 10 if isinstance(value, int) else value) for key, value in my_dict.items()}\n",
    "print(new_dict)  # Output: {'name': 'Alice', 'age': 35, 'city': 'Los Angeles'}\n",
    "These examples illustrate different ways to loop through dictionaries in Python, depending on your specific needs and the structure of the data you're handling. This flexibility makes dictionaries one of the most powerful and widely used data structures in Python.\n",
    "\n",
    "\n",
    "\n",
    "\n",
    "\n",
    "\n",
    "\n",
    "\n"
   ]
  }
 ],
 "metadata": {
  "kernelspec": {
   "display_name": "Python 3",
   "language": "python",
   "name": "python3"
  },
  "language_info": {
   "codemirror_mode": {
    "name": "ipython",
    "version": 3
   },
   "file_extension": ".py",
   "mimetype": "text/x-python",
   "name": "python",
   "nbconvert_exporter": "python",
   "pygments_lexer": "ipython3",
   "version": "3.12.2"
  }
 },
 "nbformat": 4,
 "nbformat_minor": 2
}
