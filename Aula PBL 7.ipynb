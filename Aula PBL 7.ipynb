{
 "cells": [
  {
   "cell_type": "code",
   "execution_count": 2,
   "metadata": {},
   "outputs": [],
   "source": [
    "# *******************************************************\n",
    "# Script referente a aula de PBL numero 7\n",
    "#\n",
    "# Author: Bruno Tebaldi Barbosa\n",
    "# Date: 2024-03-24\n",
    "# Objectives: listas\n",
    "# *******************************************************\n"
   ]
  },
  {
   "cell_type": "code",
   "execution_count": 3,
   "metadata": {},
   "outputs": [
    {
     "name": "stdout",
     "output_type": "stream",
     "text": [
      "['trek', 'cannondale', 'redline', 'specialized']\n"
     ]
    }
   ],
   "source": [
    "# Dentre as operações de listas que eles tem de pesquisar\n",
    "# - como criar lista\n",
    "# - como adicionar um elemento a lista\n",
    "# - como apagar um elemento da lista\n",
    "# - como inverter a lista\n",
    "# - como \"navegar\" na lista\n",
    "# - ordenar a lista\n",
    "\n",
    "\n",
    "\n",
    "# O que é uma lista?\n",
    "# Uma lista é uma coleção de itens em uma ordem específica. \n",
    "# Você pode fazer uma lista que inclua as letras do alfabeto,\n",
    "# os dígitos de 0 a 9 ou os nomes de todas as pessoas da sua família. \n",
    "\n",
    "bicicletas = ['trek', 'cannondale', 'redline', 'specialized']\n",
    "print(bicicletas)"
   ]
  },
  {
   "cell_type": "code",
   "execution_count": 4,
   "metadata": {},
   "outputs": [
    {
     "name": "stdout",
     "output_type": "stream",
     "text": [
      "trek\n"
     ]
    }
   ],
   "source": [
    "# Modificando, Adicionando e Removendo Elementos\n",
    "\n",
    "# A maioria das listas que você criar será dinâmica, o que significa que você criará\n",
    "#  uma lista e depois adicionará e removerá elementos dele conforme seu programa.\n",
    "\n",
    "# Acessando elementos em uma lista\n",
    "# Listas são coleções ordenadas, então você pode acessar qualquer elemento\n",
    "# de uma lista informando ao Python a posição, ou índice, do item desejado.\n",
    "# Para acessar um elemento de uma lista, escreva o nome da lista seguido do\n",
    "# índice do item entre colchetes.\n",
    "\n",
    "# Por exemplo, vamos retirar a primeira bicicleta da lista bicicletas:\n",
    "print(bicicletas[0])"
   ]
  },
  {
   "cell_type": "code",
   "execution_count": 5,
   "metadata": {},
   "outputs": [
    {
     "name": "stdout",
     "output_type": "stream",
     "text": [
      "cannondale\n",
      "specialized\n"
     ]
    }
   ],
   "source": [
    "# As posições do índice começam em 0, não em 1\n",
    "\n",
    "# Python considera que o primeiro item de uma lista está na posição 0, \n",
    "# não na posição 1. Isso é verdade para a maioria das linguagens de programação, \n",
    "# e o motivo tem a ver com como as operações de lista são implementadas \n",
    "# em um nível inferior. Se você estiver recebendo resultados inesperados, \n",
    "# pergunte-se se está cometendo um erro simples, mas comum.\n",
    "\n",
    "# O segundo item de uma lista tem índice 1. Usando este sistema de contagem, \n",
    "# você pode obter qualquer elemento desejado de uma lista subtraindo um de sua \n",
    "# posição na lista. Por exemplo, para acessar o quarto item de uma lista, você \n",
    "# solicita o item no índice 3.\n",
    "\n",
    "print(bicicletas[1])\n",
    "print(bicicletas[3])\n"
   ]
  },
  {
   "cell_type": "code",
   "execution_count": 6,
   "metadata": {},
   "outputs": [
    {
     "name": "stdout",
     "output_type": "stream",
     "text": [
      "['trek', 'cannondale', 'redline', 'specialized']\n",
      "['ducati', 'cannondale', 'redline', 'specialized']\n"
     ]
    }
   ],
   "source": [
    "# Modificando elementos em uma lista\n",
    "\n",
    "print(bicicletas)\n",
    "bicicletas[0] = 'ducati'\n",
    "print(bicicletas)"
   ]
  },
  {
   "cell_type": "code",
   "execution_count": 7,
   "metadata": {},
   "outputs": [
    {
     "name": "stdout",
     "output_type": "stream",
     "text": [
      "['ducati', 'cannondale', 'redline', 'specialized']\n",
      "['ducati', 'cannondale', 'redline', 'specialized', 'ducati']\n"
     ]
    }
   ],
   "source": [
    "# Adicionando Elementos a uma Lista\n",
    "\n",
    "# A maneira mais simples de adicionar um novo elemento a uma lista é usar o commando \n",
    "# \"append\" na lista. Quando você anexa um item a uma lista, o novo elemento é \n",
    "# adicionado ao final da lista.\n",
    "\n",
    "print(bicicletas)\n",
    "\n",
    "bicicletas.append('ducati')\n",
    "print(bicicletas)"
   ]
  },
  {
   "cell_type": "code",
   "execution_count": 8,
   "metadata": {},
   "outputs": [],
   "source": [
    "\n",
    "# bicicletas.append(bicicletas)\n",
    "# print(bicicletas)"
   ]
  },
  {
   "cell_type": "code",
   "execution_count": 9,
   "metadata": {},
   "outputs": [
    {
     "name": "stdout",
     "output_type": "stream",
     "text": [
      "['ducati', 'cannondale', 'redline', 'specialized', 'ducati']\n",
      "['ducati', 'cannondale', 'redline', 'caloi', 'specialized', 'ducati']\n"
     ]
    }
   ],
   "source": [
    "# Inserindo Elementos em uma Lista\n",
    "\n",
    "# Você pode adicionar um novo elemento em qualquer posição da sua lista usando \n",
    "# o método insert().\n",
    "\n",
    "\n",
    "print(bicicletas)\n",
    "bicicletas.insert(3, 'caloi')\n",
    "print(bicicletas)"
   ]
  },
  {
   "cell_type": "code",
   "execution_count": 10,
   "metadata": {},
   "outputs": [
    {
     "name": "stdout",
     "output_type": "stream",
     "text": [
      "['ducati', 'cannondale', 'redline', 'caloi', 'specialized', 'ducati']\n",
      "['cannondale', 'redline', 'caloi', 'specialized', 'ducati']\n",
      "['cannondale', 'redline', 'caloi', 'specialized']\n"
     ]
    }
   ],
   "source": [
    "# Removendo Elementos de uma Lista\n",
    "\n",
    "# Você pode remover um item de acordo com sua posição na lista ou de acordo \n",
    "# com seu valor. Para isso use o comando \"del\"\n",
    "print(bicicletas)\n",
    "del bicicletas[0]\n",
    "print(bicicletas)\n",
    "\n",
    "del bicicletas[4]\n",
    "print(bicicletas)"
   ]
  },
  {
   "cell_type": "code",
   "execution_count": 11,
   "metadata": {},
   "outputs": [
    {
     "name": "stdout",
     "output_type": "stream",
     "text": [
      "['cannondale', 'redline', 'caloi', 'specialized']\n",
      "bicilcetas = ['cannondale', 'redline', 'caloi']\n",
      "popped_bicicletas = specialized\n"
     ]
    }
   ],
   "source": [
    "# Removendo um item usando o método pop()\n",
    "\n",
    "# O método pop() remove o último item de uma lista, mas permite trabalhar\n",
    "# com esse item depois de removê-lo.\n",
    "\n",
    "print(bicicletas)\n",
    "popped_bicicletas = bicicletas.pop()\n",
    "print(f\"bicilcetas = {bicicletas}\")\n",
    "print(f\"popped_bicicletas = {popped_bicicletas}\")"
   ]
  },
  {
   "cell_type": "code",
   "execution_count": 12,
   "metadata": {},
   "outputs": [
    {
     "name": "stdout",
     "output_type": "stream",
     "text": [
      "A segunda motocicleta que tive foi uma Yamaha.\n"
     ]
    }
   ],
   "source": [
    "# Extraindo itens de qualquer posição em uma lista\n",
    "\n",
    "# Você pode usar pop() para remover um item de qualquer posição em uma lista incluindo\n",
    "# o índice do item que você deseja remover entre parênteses:\n",
    "motocicletas = ['honda', 'yamaha', 'suzuki']\n",
    "second_owned = motocicletas.pop(1)\n",
    "print(f\"A segunda motocicleta que tive foi uma {second_owned.title()}.\")"
   ]
  },
  {
   "cell_type": "code",
   "execution_count": 13,
   "metadata": {},
   "outputs": [
    {
     "name": "stdout",
     "output_type": "stream",
     "text": [
      "['honda', 'caloi', 'yamaha', 'caloi', 'suzuki', 'ducati']\n",
      "['honda', 'yamaha', 'caloi', 'suzuki', 'ducati']\n"
     ]
    }
   ],
   "source": [
    "# Removendo um item por valor\n",
    "\n",
    "# Se você souber apenas o valor do item que deseja remover, você\n",
    "# pode usar o método remove(). O comando remove a \"primeira\" ocorrencia.\n",
    "\n",
    "bicicletas = ['honda', 'caloi', 'yamaha', 'caloi', 'suzuki', 'ducati']\n",
    "print(bicicletas)\n",
    "bicicletas.remove('caloi')\n",
    "print(bicicletas)\n"
   ]
  },
  {
   "cell_type": "code",
   "execution_count": 14,
   "metadata": {},
   "outputs": [
    {
     "name": "stdout",
     "output_type": "stream",
     "text": [
      "['audi', 'bmw', 'subaru', 'toyota']\n",
      "[1, 2, 3, 4, 5]\n"
     ]
    }
   ],
   "source": [
    "# Organizando uma lista\n",
    "\n",
    "# Classificando uma lista permanentemente com o método sort()\n",
    "\n",
    "# O método sort() classifica uma lista do \"menor\" para o \"maior\". \n",
    "\n",
    "carros = ['bmw', 'audi', 'toyota', 'subaru']\n",
    "carros.sort()\n",
    "print(carros)\n",
    "\n",
    "numeros = [4, 3, 5, 1, 2]\n",
    "numeros.sort()\n",
    "print(numeros)"
   ]
  },
  {
   "cell_type": "code",
   "execution_count": 15,
   "metadata": {},
   "outputs": [
    {
     "name": "stdout",
     "output_type": "stream",
     "text": [
      "Lista original:\n",
      "['bmw', 'audi', 'toyota', 'subaru']\n",
      "\n",
      "Lista original ordenada:\n",
      "['audi', 'bmw', 'subaru', 'toyota']\n",
      "\n",
      "Lista original novamente:\n",
      "['bmw', 'audi', 'toyota', 'subaru']\n"
     ]
    }
   ],
   "source": [
    "# Classificando uma lista temporariamente com a função sorted()\n",
    "\n",
    "# Para manter a ordem original de uma lista, mas apresentá-la em ordem ordenada, você\n",
    "# pode usar a função sorted(). A função sorted() permite exibir sua lista\n",
    "# em uma ordem específica, mas não afeta a ordem real da lista.\n",
    "\n",
    "cars = ['bmw', 'audi', 'toyota', 'subaru']\n",
    "print(\"Lista original:\")\n",
    "print(cars)\n",
    "print(\"\\nLista original ordenada:\")\n",
    "print(sorted(cars))\n",
    "print(\"\\nLista original novamente:\")\n",
    "print(cars)"
   ]
  },
  {
   "cell_type": "code",
   "execution_count": 16,
   "metadata": {},
   "outputs": [
    {
     "name": "stdout",
     "output_type": "stream",
     "text": [
      "['bmw', 'audi', 'toyota', 'subaru']\n",
      "['subaru', 'toyota', 'audi', 'bmw']\n"
     ]
    }
   ],
   "source": [
    "# Imprimindo uma lista na ordem inversa\n",
    "\n",
    "# Para reverter a ordem original de uma lista, você pode usar o método reverse().\n",
    "# O método reverse() altera a ordem de uma lista permanentemente.\n",
    "\n",
    "carros = ['bmw', 'audi', 'toyota', 'subaru']\n",
    "print(carros)\n",
    "carros.reverse()\n",
    "print(carros)"
   ]
  },
  {
   "cell_type": "code",
   "execution_count": 17,
   "metadata": {},
   "outputs": [
    {
     "data": {
      "text/plain": [
       "4"
      ]
     },
     "execution_count": 17,
     "metadata": {},
     "output_type": "execute_result"
    }
   ],
   "source": [
    "# Encontrando o comprimento de uma lista\n",
    "\n",
    "# Você pode encontrar rapidamente o comprimento de uma lista usando a função len().\n",
    "\n",
    "carros = ['bmw', 'audi', 'toyota', 'subaru']\n",
    "len(carros)"
   ]
  },
  {
   "cell_type": "code",
   "execution_count": 20,
   "metadata": {},
   "outputs": [],
   "source": [
    "# Evitando erros de índice ao trabalhar com listas\n",
    "\n",
    "# Há um tipo de erro comum de ver quando você trabalha com listas \n",
    "# pela primeira vez. Digamos que você tenha uma lista com três itens e pergunte\n",
    "# para o quarto item:\n",
    "\n",
    "# motocicletas = ['honda', 'yamaha', 'suzuki']\n",
    "# print(motocicletas[3])\n",
    "\n",
    "# ---------------------------------------------------------------------------\n",
    "# IndexError                                Traceback (most recent call last)\n",
    "# Cell In[19], line 8\n",
    "#       1 # Evitando erros de índice ao trabalhar com listas\n",
    "#       2 \n",
    "#       3 # Há um tipo de erro comum de ver quando você trabalha com listas \n",
    "#       4 # pela primeira vez. Digamos que você tenha uma lista com três itens e pergunte\n",
    "#       5 # para o quarto item:\n",
    "#       7 motocicletas = ['honda', 'yamaha', 'suzuki']\n",
    "# ----> 8 print(motocicletas[3])\n",
    "#      10 # Python tenta fornecer o item no índice 3. Mas quando ele pesquisa\n",
    "#      11 # da lista, nenhum item em motocicletas tem índice 3. Por causa do off-by-one\n",
    "#      12 # natureza da indexação em listas, esse erro é típico.\n",
    "#    (...)\n",
    "#      18 # Lembre-se de que sempre que quiser acessar o último item de uma lista,\n",
    "#      19 # você deve usar o índice -1. Isso sempre funcionará, mesmo\n",
    "# \n",
    "# IndexError: list index out of range\n",
    "\n",
    "\n",
    "\n",
    "# Python tenta fornecer o item no índice 3. Mas quando ele pesquisa\n",
    "# da lista, nenhum item em motocicletas tem índice 3. Por causa do off-by-one\n",
    "# natureza da indexação em listas, esse erro é típico.\n",
    "\n",
    "# As pessoas pensam que o terceiro item\n",
    "# é o item número 3, porque eles começam a contar em 1. Mas em Python o terceiro\n",
    "# item é o número 2, porque começa a indexação em 0.\n",
    "\n",
    "# Lembre-se de que sempre que quiser acessar o último item de uma lista,\n",
    "# você deve usar o índice -1. Isso sempre funcionará, mesmo"
   ]
  }
 ],
 "metadata": {
  "kernelspec": {
   "display_name": "Python 3",
   "language": "python",
   "name": "python3"
  },
  "language_info": {
   "codemirror_mode": {
    "name": "ipython",
    "version": 3
   },
   "file_extension": ".py",
   "mimetype": "text/x-python",
   "name": "python",
   "nbconvert_exporter": "python",
   "pygments_lexer": "ipython3",
   "version": "3.12.2"
  }
 },
 "nbformat": 4,
 "nbformat_minor": 2
}
