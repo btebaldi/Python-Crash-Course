{
 "cells": [
  {
   "cell_type": "code",
   "execution_count": 37,
   "metadata": {},
   "outputs": [],
   "source": [
    "# *******************************************************\n",
    "# Script referente a aula de PBL numero 8\n",
    "#\n",
    "# Author: Bruno Tebaldi Barbosa\n",
    "# Date: 2024-03-24\n",
    "# Objectives: Working with lists\n",
    "# *******************************************************\n"
   ]
  },
  {
   "cell_type": "code",
   "execution_count": 5,
   "metadata": {},
   "outputs": [
    {
     "name": "stdout",
     "output_type": "stream",
     "text": [
      "alice\n",
      "david\n",
      "carolina\n",
      "========= Exemplo COM identacao =========\n",
      "\n",
      "Olá Alice, bom dia!\n",
      "Eu conheci Alice.\n",
      "\n",
      "Olá David, bom dia!\n",
      "Eu conheci David.\n",
      "\n",
      "Olá Carolina, bom dia!\n",
      "Eu conheci Carolina.\n",
      "\n",
      "========= Exemplo SEM identacao =========\n",
      "\n",
      "Olá Alice, bom dia!\n",
      "Olá David, bom dia!\n",
      "Olá Carolina, bom dia!\n",
      "Eu conheci Carolina.\n",
      "\n"
     ]
    }
   ],
   "source": [
    "# loop\n",
    "\n",
    "# O loop é importante porque é uma das maneiras mais comuns pelas quais um computador\n",
    "# automatiza tarefas repetitivas. \n",
    "\n",
    "# Vamos usar um loop for para imprimir cada nome em uma lista de pessoas:\n",
    "lista_de_pessoas = ['alice', 'david', 'carolina']\n",
    "for pessoa in lista_de_pessoas:\n",
    "    print(pessoa)\n",
    "\n",
    "# OBS: A identação é necessaria para informar ao programa a estrutura do codigo.\n",
    "    \n",
    "lista_de_pessoas = ['alice', 'david', 'carolina']\n",
    "\n",
    "print(f\"========= Exemplo COM identacao =========\\n\")\n",
    "for pessoa in lista_de_pessoas:\n",
    "    print(f\"Olá {pessoa.title()}, bom dia!\")\n",
    "    print(f\"Eu conheci {pessoa.title()}.\\n\")\n",
    "\n",
    "print(f\"========= Exemplo SEM identacao =========\\n\")\n",
    "for pessoa in lista_de_pessoas:\n",
    "    print(f\"Olá {pessoa.title()}, bom dia!\")\n",
    "print(f\"Eu conheci {pessoa.title()}.\\n\")\n",
    "\n",
    "\n",
    "# Python usa indentação para determinar como uma linha, ou grupo de linhas, \n",
    "# está relacionada ao resto do programa. O uso de indentação em Python \n",
    "# torna o código muito fácil de ler.\n",
    "\n",
    "# Basicamente, ele usa espaços em branco para forçá-lo a escrever um código \n",
    "# bem formatado com uma estrutura visual clara. Em programas Python mais longos, \n",
    "# você notará blocos de código recuados em alguns níveis diferentes. Esses \n",
    "# níveis de recuo ajudam você a ter uma noção geral da organização geral do \n",
    "# programa.\n"
   ]
  },
  {
   "cell_type": "code",
   "execution_count": 12,
   "metadata": {},
   "outputs": [
    {
     "name": "stdout",
     "output_type": "stream",
     "text": [
      "1\n",
      "2\n",
      "3\n",
      "4\n",
      "[1, 2, 3, 4]\n"
     ]
    }
   ],
   "source": [
    "# Fazendo listas numéricas\n",
    "\n",
    "# A função range()\n",
    "\n",
    "# A função range() do Python facilita a geração de uma série de números.\n",
    "for valor in range(1, 5):\n",
    "    print(valor)\n",
    "\n",
    "# Embora este código pareça que deveria imprimir os números de 1 a 5, ele\n",
    "# não imprime o número 5.\n",
    "    \n",
    "# A função range() faz com que o Python comece a contar no primeiro\n",
    "# valor que você atribui e para quando atinge o segundo valor que você fornece.\n",
    "numbers = list(range(1, 5))\n",
    "print(numbers)\n"
   ]
  },
  {
   "cell_type": "code",
   "execution_count": 13,
   "metadata": {},
   "outputs": [
    {
     "name": "stdout",
     "output_type": "stream",
     "text": [
      "[2, 4, 6, 8, 10]\n"
     ]
    }
   ],
   "source": [
    "# A função range() pode fazer a contagem de com um tamanho de passo pre-determinado.\n",
    "# Se você passar um terceiro argumento para range(), o Python usará esse valor\n",
    "# como um tamanho de passo ao gerar números.\n",
    "\n",
    "numeros_pares = list(range(2, 11, 2))\n",
    "print(numeros_pares)"
   ]
  },
  {
   "cell_type": "code",
   "execution_count": 16,
   "metadata": {},
   "outputs": [
    {
     "name": "stdout",
     "output_type": "stream",
     "text": [
      "Minimo = 0\n",
      "Maximo = 9\n",
      "Soma = 45\n"
     ]
    }
   ],
   "source": [
    "# Estatísticas simples\n",
    "\n",
    "# Algumas funções Python são úteis ao trabalhar com listas de números.\n",
    "digits = [1, 2, 3, 4, 5, 6, 7, 8, 9, 0]\n",
    "print(\"Minimo = {0}\\nMaximo = {1}\\nSoma = {2}\".format(min(digits), max(digits), sum(digits)))\n",
    "\n"
   ]
  },
  {
   "cell_type": "code",
   "execution_count": 17,
   "metadata": {},
   "outputs": [
    {
     "name": "stdout",
     "output_type": "stream",
     "text": [
      "[1, 4, 9, 16]\n"
     ]
    }
   ],
   "source": [
    "# ****** CURIOSIDADE ******\n",
    "\n",
    "# Compreensões de lista\n",
    "\n",
    "# Uma compreensão de lista permite gerar esta mesma lista em apenas uma \n",
    "# linha de código. Uma compreensão de lista combina o for loop e a criação \n",
    "# de novos elementos em uma linha, e automaticamente anexa cada novo \n",
    "# elemento.\n",
    "\n",
    "squares = [value**2 for value in range(1, 6)]\n",
    "print(squares)"
   ]
  },
  {
   "cell_type": "code",
   "execution_count": 22,
   "metadata": {},
   "outputs": [
    {
     "name": "stdout",
     "output_type": "stream",
     "text": [
      "['charles', 'martina', 'michael']\n",
      "A lista de pessoas é: ['charles', 'martina', 'michael', 'florence', 'eli']\n",
      "Aqui estão os três primeiros jogadores do meu time:\n",
      "Charles\n",
      "Martina\n",
      "Michael\n"
     ]
    }
   ],
   "source": [
    "# Fatiando uma lista (\"slice\")\n",
    "\n",
    "# Para fazer uma fatia (\"slice\"), você especifica o índice do primeiro e do \n",
    "# último elemento que deseja trabalhar com. \n",
    "\n",
    "lista_de_pessoas = ['charles', 'martina', 'michael', 'florence', 'eli']\n",
    "print(lista_de_pessoas[0:3])\n",
    "\n",
    "\n",
    "# Loop de uma fatia\n",
    "print(f\"A lista de pessoas é: {lista_de_pessoas}\")\n",
    "print(\"Aqui estão os três primeiros jogadores do meu time:\")\n",
    "for jogador in lista_de_pessoas[:3]:\n",
    "    print(jogador.title())"
   ]
  },
  {
   "cell_type": "code",
   "execution_count": 26,
   "metadata": {},
   "outputs": [
    {
     "name": "stdout",
     "output_type": "stream",
     "text": [
      "Minhas comidas favoritas são:\n",
      "['pizza', 'falafel', 'bolo de cenoura']\n",
      "\n",
      "As comidas favoritas do meu amigo são:\n",
      "['pizza', 'falafel', 'bolo de cenoura']\n",
      "Minhas comidas favoritas são:\n",
      "['pizza', 'falafel', 'bolo de cenoura', 'cannoli']\n",
      "\n",
      "As comidas favoritas do meu amigo são:\n",
      "['pizza', 'falafel', 'bolo de cenoura', 'ice cream']\n"
     ]
    }
   ],
   "source": [
    "# Copiando uma lista\n",
    "\n",
    "# Para copiar uma lista, você pode criar uma fatia (\"slice\") que inclua toda a lista original\n",
    "# omitindo o primeiro índice e o segundo índice ([:]). Isso diz ao Python para\n",
    "# faça uma fatia que comece no primeiro item e termine no último item, produzindo\n",
    "# uma cópia de toda a lista.\n",
    "\n",
    "my_foods = ['pizza', 'falafel', 'bolo de cenoura']\n",
    "friend_foods = my_foods[:]\n",
    "print(\"Minhas comidas favoritas são:\")\n",
    "print(my_foods)\n",
    "print(\"\\nAs comidas favoritas do meu amigo são:\")\n",
    "print(friend_foods)\n",
    "\n",
    "\n",
    "my_foods.append('cannoli')\n",
    "friend_foods.append('sorvete')\n",
    "print(\"Minhas comidas favoritas são:\")\n",
    "print(my_foods)\n",
    "print(\"\\nAs comidas favoritas do meu amigo são:\")\n",
    "print(friend_foods)\n"
   ]
  },
  {
   "cell_type": "code",
   "execution_count": 28,
   "metadata": {},
   "outputs": [
    {
     "name": "stdout",
     "output_type": "stream",
     "text": [
      "Minhas comidas favoritas são:\n",
      "['pizza', 'falafel', 'bolo de cenoura', 'cannoli', 'sorvete']\n",
      "\n",
      "As comidas favoritas do meu amigo são:\n",
      "['pizza', 'falafel', 'bolo de cenoura', 'cannoli', 'sorvete']\n"
     ]
    }
   ],
   "source": [
    "# Quando nao utilizamos o \"slice\" ele cria uma \"referencia\" para a lista original.\n",
    "\n",
    "my_foods = ['pizza', 'falafel', 'bolo de cenoura']\n",
    "friend_foods = my_foods\n",
    "\n",
    "my_foods.append('cannoli')\n",
    "friend_foods.append('sorvete')\n",
    "\n",
    "print(\"Minhas comidas favoritas são:\")\n",
    "print(my_foods)\n",
    "print(\"\\nAs comidas favoritas do meu amigo são:\")\n",
    "print(friend_foods)"
   ]
  },
  {
   "cell_type": "code",
   "execution_count": 29,
   "metadata": {},
   "outputs": [
    {
     "name": "stdout",
     "output_type": "stream",
     "text": [
      "200\n",
      "100\n"
     ]
    }
   ],
   "source": [
    "# Tuplas\n",
    "\n",
    "# As tuplas é uma lista imutável chamada de tupla.\n",
    "\n",
    "# Definindo uma Tupla\n",
    "\n",
    "# Uma tupla se parece com uma lista, exceto que você usa parênteses em vez de quadrado\n",
    "# colchetes.\n",
    "\n",
    "dimensions = (200, 100, 50, 25, 12, 6, 3, 1)\n",
    "print(dimensions[0])\n",
    "print(dimensions[1])"
   ]
  },
  {
   "cell_type": "code",
   "execution_count": 31,
   "metadata": {},
   "outputs": [
    {
     "name": "stdout",
     "output_type": "stream",
     "text": [
      "200\n",
      "100\n",
      "50\n",
      "25\n",
      "12\n",
      "6\n",
      "3\n",
      "1\n"
     ]
    }
   ],
   "source": [
    "# loop por em uma tupla\n",
    "\n",
    "for dim in dimensions:\n",
    "    print(dim)"
   ]
  },
  {
   "cell_type": "code",
   "execution_count": 32,
   "metadata": {},
   "outputs": [
    {
     "name": "stdout",
     "output_type": "stream",
     "text": [
      "Dimensões originais:\n",
      "200\n",
      "100\n",
      "50\n",
      "25\n",
      "12\n",
      "6\n",
      "3\n",
      "1\n",
      "\n",
      "Dimensões modificadas:\n",
      "400\n",
      "100\n"
     ]
    }
   ],
   "source": [
    "# Escrevendo sobre uma tupla\n",
    "\n",
    "# Embora não seja possível modificar uma tupla, você pode atribuir um novo valor \n",
    "# a uma variável que representa uma tupla. \n",
    "\n",
    "dimensions = (200, 100, 50, 25, 12, 6, 3, 1)\n",
    "print(\"Dimensões originais:\")\n",
    "for dim in dimensions:\n",
    "    print(dim)\n",
    "\n",
    "dimensions = (400, 100)\n",
    "print(\"\\nDimensões modificadas:\")\n",
    "for dim in dimensions:\n",
    "    print(dim)\n"
   ]
  }
 ],
 "metadata": {
  "kernelspec": {
   "display_name": "Python 3",
   "language": "python",
   "name": "python3"
  },
  "language_info": {
   "codemirror_mode": {
    "name": "ipython",
    "version": 3
   },
   "file_extension": ".py",
   "mimetype": "text/x-python",
   "name": "python",
   "nbconvert_exporter": "python",
   "pygments_lexer": "ipython3",
   "version": "3.12.2"
  }
 },
 "nbformat": 4,
 "nbformat_minor": 2
}
